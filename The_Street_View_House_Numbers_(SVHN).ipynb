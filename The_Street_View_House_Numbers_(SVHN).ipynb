{
  "cells": [
    {
      "cell_type": "code",
      "source": [
        "!pip install tensorflow-addons"
      ],
      "metadata": {
        "colab": {
          "base_uri": "https://localhost:8080/"
        },
        "id": "cbnLoNSIDmU-",
        "outputId": "4269ac17-eff1-4c8d-889a-43b8786260eb"
      },
      "execution_count": null,
      "outputs": [
        {
          "output_type": "stream",
          "name": "stdout",
          "text": [
            "Collecting tensorflow-addons\n",
            "  Downloading tensorflow_addons-0.22.0-cp310-cp310-manylinux_2_17_x86_64.manylinux2014_x86_64.whl (612 kB)\n",
            "\u001b[?25l     \u001b[90m━━━━━━━━━━━━━━━━━━━━━━━━━━━━━━━━━━━━━━━━\u001b[0m \u001b[32m0.0/612.3 kB\u001b[0m \u001b[31m?\u001b[0m eta \u001b[36m-:--:--\u001b[0m\r\u001b[2K     \u001b[91m━━━━\u001b[0m\u001b[91m╸\u001b[0m\u001b[90m━━━━━━━━━━━━━━━━━━━━━━━━━━━━━━━━━━━\u001b[0m \u001b[32m71.7/612.3 kB\u001b[0m \u001b[31m2.1 MB/s\u001b[0m eta \u001b[36m0:00:01\u001b[0m\r\u001b[2K     \u001b[91m━━━━━━━━━━━━━━━━━━━━━━━━━━━━━━━━━━━━━━━\u001b[0m\u001b[90m╺\u001b[0m \u001b[32m604.2/612.3 kB\u001b[0m \u001b[31m10.1 MB/s\u001b[0m eta \u001b[36m0:00:01\u001b[0m\r\u001b[2K     \u001b[90m━━━━━━━━━━━━━━━━━━━━━━━━━━━━━━━━━━━━━━━━\u001b[0m \u001b[32m612.3/612.3 kB\u001b[0m \u001b[31m8.6 MB/s\u001b[0m eta \u001b[36m0:00:00\u001b[0m\n",
            "\u001b[?25hRequirement already satisfied: packaging in /usr/local/lib/python3.10/dist-packages (from tensorflow-addons) (23.2)\n",
            "Collecting typeguard<3.0.0,>=2.7 (from tensorflow-addons)\n",
            "  Downloading typeguard-2.13.3-py3-none-any.whl (17 kB)\n",
            "Installing collected packages: typeguard, tensorflow-addons\n",
            "Successfully installed tensorflow-addons-0.22.0 typeguard-2.13.3\n"
          ]
        }
      ]
    },
    {
      "cell_type": "code",
      "source": [
        "import pandas as pd\n",
        "import numpy as np\n",
        "\n",
        "from sklearn import metrics\n",
        "\n",
        "import matplotlib.pyplot as plt\n",
        "\n",
        "import tensorflow as tf\n",
        "import tensorflow_datasets as tfds\n",
        "import tensorflow_addons as tfa\n",
        "import warnings\n",
        "warnings.filterwarnings(\"ignore\")"
      ],
      "metadata": {
        "id": "U5Ji99zTFg5F"
      },
      "execution_count": null,
      "outputs": []
    },
    {
      "cell_type": "markdown",
      "metadata": {
        "id": "CzaDcGza_QDk"
      },
      "source": [
        "**1. Load the dataset (The Street View House Numbers (SVHN) Dataset) from the given link: https://www.tensorflow.org/datasets/catalog/svhn_cropped\n",
        "\n",
        "This dataset consists of 60,000 images of 10 different classes, 6,000 images per class and 50,000 (5,000 per class in training) and 10,000 (1,000 per class in testing)"
      ]
    },
    {
      "cell_type": "code",
      "execution_count": null,
      "metadata": {
        "id": "j9m4neJz_QDm",
        "colab": {
          "base_uri": "https://localhost:8080/",
          "height": 117,
          "referenced_widgets": [
            "172db7428c494e39af04cdf6d9ccc943",
            "3b216ddbb92e4e3784e4beff8062b0f6",
            "ee9c655ef83346328aea965ec314d45c",
            "226f6c0091dc435bb21b2a8c438cd897",
            "417eacf62d214e1786f23aa343415778",
            "4811171915204eb48bafe768d5a8ac90",
            "ff7faa33dee24f62989986a359d67843",
            "b041a939ade845babe5bc6e4f81b641c",
            "433328e2b6604e288575656c06de2fee",
            "69abee159621400b9d1d7efa6da020da",
            "5ecfac30d09247e5b3e89da3b358dae9",
            "f46494b232444232af719580295ba0d9",
            "2c50e107230d4f61a01d69cd34fe5f2e",
            "28aff8c335f84a95ab97e1864c86fb27",
            "8c6e62387dfa48f2b8f9116aebaf6a8d",
            "621b76148d954aa591dbddbb37d44afd",
            "3ea20fbfa42f46f9affced2383eb7738",
            "d1c486d57ef14af78136fc82ac0ad739",
            "a546cb9036464abf93e44dabc1a0d038",
            "307138d574c14a3bbc497d39f265ac8c",
            "f2b02d01ab21448fa584a023720c88cc",
            "ae2768498118499f8a9f1237845e04d9",
            "b3ea516efc3942968109a89cbed939f5",
            "198fb34f137d4f5fb43378ea6c8040b0",
            "e2ef2cda3a6d4a50becba123324a56e0",
            "b1aad92544fa477ca7a06fd41a0f1485",
            "6d81facc85a24f58857499bc113681b9",
            "c9c64f995c374d8e911fd27d79da843f",
            "b8ddc7f236404a7aae66956128898cfe",
            "c7b22934339344ebab56a6019e83f9d4",
            "81de17bcb2894b718a8f3b7fdf9f53b6",
            "3af8089c01f943cea6c680f3945f94e4",
            "4c818ae0f03144029bacf3eb738f2469",
            "d46ff0ee54ab4224af7588b86bdca3ee",
            "c7081e6a2c904f238774b0ec6449a1d1",
            "339ad9d7e8fd47a8a083926ce69b5369",
            "03d4eb1b1eda4a64a18f2e1a3057bc96",
            "da9a4ec5997e4455bbbd4e67fee1194d",
            "5b5ad3e5f5514b80870420d2ef211292",
            "f6d4e4ca6ce84d8a9ffa7f8d2fd58aab",
            "1aa4d2538fac4c5589c8620d05993732",
            "019609a58388457e872e6697103ae86a",
            "a1355cd608954532be383b7e17cfb00f",
            "7dc976abc6f44500bfa8a33a19165744",
            "cfef9642261d4b5e8b27941e60ab9a5b",
            "e5d7328aba194ca0b4a7eb74c973a2ad",
            "0e2154ed076e4730bc49c5f1cdd53165",
            "c806b966e23842b487321f846c97b6fe",
            "3273cafb350b4ef89083388879d935da",
            "d20756cad84f478b9f3422cc7981f3b0",
            "cbd205a7bb464678a0f17fa236c0ad7f",
            "f4471f28d7e147d29aeb10b4b88839ee",
            "9a18faa9cc5c4a67856e734078b85e37",
            "cb100f173708489a890fd8b9ab3f6235",
            "fcbc6c8e82124f34a403aacfcc44233b",
            "1af4be0e1c4240ac93bc9aa215e2a464",
            "e8b3eee732d64d6e858539a672ce3afb",
            "5b70f6479d174a73855ed6fdc088e9c0",
            "e88ab75afbbe48ce9a5c5aceafc75307",
            "8f9263f4c07e429a9e304f19b3b4c231",
            "b6fc9132b743482b9d4d4b92697f1bb8",
            "fa57d10b47fa43179869ac157a655a4a",
            "f6fe043d661345d9b8ba7d1732d64a9f",
            "61d52f8e99cc4e11b3c729b7b09e5d80",
            "fe930b36e98443a19f003d9c9802e1e8",
            "daa8ad986c5f401a9604959473e6beb7",
            "9aa63f69a9954a91816ad69bdd35ed4b",
            "74920380c014447f8a58e0d733175f6b",
            "34b32335b0c14edf8f5950093e9178ff",
            "079ab5b3d0bf4332a95c2faeb96df35d",
            "6972d9d04e554bfd9c4c31bb28c21a31",
            "52844a666ab144a0991211cf6f008979",
            "1f51d9a6de28483dbcd84c7b157b5034",
            "34a64e80826043ca8a2c0df7f1bf0e9d",
            "e34d9367b0ea444ab3e022bf7b11d0cd",
            "c57416d0c30a4238a15bf59c17bf30df",
            "5ae49ddeb2b648439eb7e9529bd862f3",
            "be54ad383013418ea56b0e4a679ecddb",
            "fb68eb237b33489aab4cf809ed210384",
            "a1dba8bf614844db961e1443f06f90b6",
            "88fa176e450244c28f115e4621c98d12",
            "c38a600defe248b49d9ab7daa5b0b9c3",
            "f2c5c274a60546a9a193c5588f06f5c8",
            "f380efd95f7141dd90537b7c36729ecb",
            "17f179bd1e7e4650943aa3618ea1e778",
            "b95783a7bbe64a778d40c136ec597e44",
            "38cce8cd1b374fc9b8a60eb798a20624",
            "2f3cf49a4e7e4f41acc2603fa43629c1",
            "897f3c780b384ff89b6167e5ab6c60d4",
            "e2ce07deeb2e4bf294f50a6ef6b89d66",
            "11616d4b2efe4b819d4636dba06cfe53",
            "afd2dd8c5d304220a1310992e3d2b54a",
            "3e76aec4738c43ab9052fe34f4c7952f",
            "8429701c8e834826955a9d7103ba0dd9",
            "46f7afa44b8a4920887a3a5abf47e9bc",
            "c67d6df0da514d5d805ee6def878f585",
            "cfda319f78314923b9bf7b5e085e4473",
            "a426a2b023ec455bad99bc441812b798",
            "d2f254722498446eb608514cf19c7860"
          ]
        },
        "outputId": "2c1782ce-b0ff-4823-ac92-0b7621b24721"
      },
      "outputs": [
        {
          "output_type": "stream",
          "name": "stdout",
          "text": [
            "Downloading and preparing dataset 1.47 GiB (download: 1.47 GiB, generated: Unknown size, total: 1.47 GiB) to /root/tensorflow_datasets/svhn_cropped/3.0.0...\n"
          ]
        },
        {
          "output_type": "display_data",
          "data": {
            "text/plain": [
              "Dl Completed...: 0 url [00:00, ? url/s]"
            ],
            "application/vnd.jupyter.widget-view+json": {
              "version_major": 2,
              "version_minor": 0,
              "model_id": "172db7428c494e39af04cdf6d9ccc943"
            }
          },
          "metadata": {}
        },
        {
          "output_type": "display_data",
          "data": {
            "text/plain": [
              "Dl Size...: 0 MiB [00:00, ? MiB/s]"
            ],
            "application/vnd.jupyter.widget-view+json": {
              "version_major": 2,
              "version_minor": 0,
              "model_id": "f46494b232444232af719580295ba0d9"
            }
          },
          "metadata": {}
        },
        {
          "output_type": "display_data",
          "data": {
            "text/plain": [
              "Generating splits...:   0%|          | 0/3 [00:00<?, ? splits/s]"
            ],
            "application/vnd.jupyter.widget-view+json": {
              "version_major": 2,
              "version_minor": 0,
              "model_id": "b3ea516efc3942968109a89cbed939f5"
            }
          },
          "metadata": {}
        },
        {
          "output_type": "display_data",
          "data": {
            "text/plain": [
              "Generating train examples...:   0%|          | 0/73257 [00:00<?, ? examples/s]"
            ],
            "application/vnd.jupyter.widget-view+json": {
              "version_major": 2,
              "version_minor": 0,
              "model_id": "d46ff0ee54ab4224af7588b86bdca3ee"
            }
          },
          "metadata": {}
        },
        {
          "output_type": "display_data",
          "data": {
            "text/plain": [
              "Shuffling /root/tensorflow_datasets/svhn_cropped/3.0.0.incompleteLKB4Z8/svhn_cropped-train.tfrecord*...:   0%|…"
            ],
            "application/vnd.jupyter.widget-view+json": {
              "version_major": 2,
              "version_minor": 0,
              "model_id": "cfef9642261d4b5e8b27941e60ab9a5b"
            }
          },
          "metadata": {}
        },
        {
          "output_type": "display_data",
          "data": {
            "text/plain": [
              "Generating test examples...:   0%|          | 0/26032 [00:00<?, ? examples/s]"
            ],
            "application/vnd.jupyter.widget-view+json": {
              "version_major": 2,
              "version_minor": 0,
              "model_id": "1af4be0e1c4240ac93bc9aa215e2a464"
            }
          },
          "metadata": {}
        },
        {
          "output_type": "display_data",
          "data": {
            "text/plain": [
              "Shuffling /root/tensorflow_datasets/svhn_cropped/3.0.0.incompleteLKB4Z8/svhn_cropped-test.tfrecord*...:   0%| …"
            ],
            "application/vnd.jupyter.widget-view+json": {
              "version_major": 2,
              "version_minor": 0,
              "model_id": "9aa63f69a9954a91816ad69bdd35ed4b"
            }
          },
          "metadata": {}
        },
        {
          "output_type": "display_data",
          "data": {
            "text/plain": [
              "Generating extra examples...:   0%|          | 0/531131 [00:00<?, ? examples/s]"
            ],
            "application/vnd.jupyter.widget-view+json": {
              "version_major": 2,
              "version_minor": 0,
              "model_id": "be54ad383013418ea56b0e4a679ecddb"
            }
          },
          "metadata": {}
        },
        {
          "output_type": "display_data",
          "data": {
            "text/plain": [
              "Shuffling /root/tensorflow_datasets/svhn_cropped/3.0.0.incompleteLKB4Z8/svhn_cropped-extra.tfrecord*...:   0%|…"
            ],
            "application/vnd.jupyter.widget-view+json": {
              "version_major": 2,
              "version_minor": 0,
              "model_id": "897f3c780b384ff89b6167e5ab6c60d4"
            }
          },
          "metadata": {}
        },
        {
          "output_type": "stream",
          "name": "stdout",
          "text": [
            "Dataset svhn_cropped downloaded and prepared to /root/tensorflow_datasets/svhn_cropped/3.0.0. Subsequent calls will reuse this data.\n"
          ]
        }
      ],
      "source": [
        "BATCH_SIZE = 32\n",
        "\n",
        "(train_data, val_data, test_data), ds_info = tfds.load(\n",
        "    name=\"svhn_cropped\",\n",
        "    split=('train[:60%]','train[60%:]', 'test'),\n",
        "    as_supervised=True,\n",
        "    with_info=True,\n",
        "    batch_size=BATCH_SIZE)"
      ]
    },
    {
      "cell_type": "markdown",
      "metadata": {
        "id": "jkpdEbyF_QDm"
      },
      "source": [
        "\n",
        "\n",
        "**a. Gradient Descent**\n",
        "\n",
        "Gradient Descent is a method to find the minima of the cost in order to adjust the weights in the neural network.\n",
        "\n",
        "**b. Drop out **\n",
        "\n",
        "Drop out is to drop a percentage of the neurons in order to prevent overfitting. The percentage is a user input value ranges usaully from 0.2 to 0.5. When a neurons is being 'dropped', it means the neuron's input is being set to 0. This only happens in the training phase. In the inference phase, the dropped out nerons' inputs will be multipled by the drop out rate.\n",
        "\n",
        "**c. Activation functions **\n",
        "Activation functions enable the network to learn complex patterns by introducing non-linearities. These functions are applied to the outputs of the network's nodes, also known as \"neurons\". There are several activation functions that are commonly used, such as:\n",
        "\n",
        "- Sigmoid function: This function compresses the input into a range of 0 to 1. Although it was widely used in the past, it has become less popular due to certain limitations, such as the vanishing gradient issue.\n",
        "\n",
        "- Hyperbolic tangent (tanh) function: Similar to the sigmoid function, this function squashes the input to a range of -1 to 1, allowing for negative values\n",
        "\n",
        "- Rectified Linear Unit (ReLU) is a function that returns the input for any positive input and zero for any negative input. Although it has an issue called \"dying ReLU\" in some cases, its popularity has increased due to its simplicity and efficiency in training deep neural networks.\n",
        "\n",
        "- Exponential Linear Unit (ELU) is another function that can handle negative values. It has an exponential component for negative inputs, making it similar to Leaky ReLU.\n",
        "\n",
        "- Softmax is a common activation function for neural network output layers in classification problems, compressing outputs into a probability distribution.\n",
        "\n",
        "**d. Back Propagation **\n",
        "\n",
        "Back propagation is how a neural network updates the weights after each forward training. After the forward training, the network will use the training predictions and cost functions to re-evaluate the weights using gradient descent method. It will 'propagate' layers by layers until the very beginning of the neural network.\n",
        "\n",
        "**e. Epochs, Iterations and Batch size **\n",
        "\n",
        "Epochs are the number of times training will run. 1 epoch represents one training cycle, from forward training to back propagation.\n",
        "\n",
        "Iterations are the number of times a batch will pass through the neural network. For a dataset that is separated into 10 batches, there will be 10 iterations for each of 10 batches will pass through the neural network once.\n",
        "\n",
        "Batch size is the amount of samples that will be passed through the neural network from a dataset in one iteration. Depending on the batch size, the time it takes for the neural network to complete the training from the entire dataset will differ. The batch size can be the entire length of the dataset, but the weights would not have updated much. A small batch size can guarantee a better weights of the neural network but it would consume a lot of time.\n",
        "\n",
        "Picking a small batch size will result in more iterations. To compensate it, using lower epochs will reduce the time consumption. In the same sense, picking a bigger batch size will have less iterations but possibily worse performances since the weights might not be updated as much as when the batch size is small. Picking higher epochs can then ensure more iterations."
      ]
    },
    {
      "cell_type": "markdown",
      "metadata": {
        "id": "x2CzuaKP_QDm"
      },
      "source": [
        "**3. Visualize / summarize the data **"
      ]
    },
    {
      "cell_type": "code",
      "execution_count": null,
      "metadata": {
        "id": "VZenc7TJ_QDm"
      },
      "outputs": [],
      "source": [
        "def barplot(x, val):\n",
        "    fig, ax = plt.subplots()\n",
        "    ax.bar(x, val)\n",
        "\n",
        "    rects = ax.patches\n",
        "    for rect, label in zip(rects, val):\n",
        "        height = rect.get_height()\n",
        "        ax.text(\n",
        "            rect.get_x() + rect.get_width() / 2, height + 5, label, ha=\"center\", va=\"bottom\"\n",
        "        )\n",
        "\n",
        "    plt.show()"
      ]
    },
    {
      "cell_type": "markdown",
      "metadata": {
        "id": "dQpIWnlG_QDn"
      },
      "source": [
        " Number of entities in training and testing set and number of classes in target variable"
      ]
    },
    {
      "cell_type": "markdown",
      "metadata": {
        "id": "WQQ8hy9Q_QDn"
      },
      "source": [
        "Number of images per class"
      ]
    },
    {
      "cell_type": "code",
      "source": [
        "num_entities = [len(train_data) * BATCH_SIZE, len(val_data) * BATCH_SIZE, len(test_data) * BATCH_SIZE]\n",
        "\n",
        "barplot(('train', 'validation', 'test'), num_entities)"
      ],
      "metadata": {
        "id": "-RFqAxg069k7"
      },
      "execution_count": null,
      "outputs": []
    },
    {
      "cell_type": "code",
      "execution_count": null,
      "metadata": {
        "id": "IRBr8Pyj_QDn"
      },
      "outputs": [],
      "source": [
        "def get_classes(ds):\n",
        "    res = []\n",
        "    for _, l in ds:\n",
        "        for c in l.numpy():\n",
        "            res.append(c)\n",
        "\n",
        "    return pd.Series(res)"
      ]
    },
    {
      "cell_type": "code",
      "execution_count": null,
      "metadata": {
        "id": "4ECOECfr_QDn"
      },
      "outputs": [],
      "source": [
        "train_target_classes = get_classes(train_data)\n",
        "val_target_classes = get_classes(val_data)\n",
        "test_target_classes = get_classes(test_data)"
      ]
    },
    {
      "cell_type": "code",
      "execution_count": null,
      "metadata": {
        "id": "enlvKbTW_QDo",
        "colab": {
          "base_uri": "https://localhost:8080/",
          "height": 430
        },
        "outputId": "7798a0ef-0d7b-477e-fb30-19902c98125b"
      },
      "outputs": [
        {
          "output_type": "display_data",
          "data": {
            "text/plain": [
              "<Figure size 640x480 with 1 Axes>"
            ],
            "image/png": "[encoded data removed]"
          },
          "metadata": {}
        }
      ],
      "source": [
        "trtc = train_target_classes.value_counts()\n",
        "trtc = trtc.sort_index()\n",
        "\n",
        "trtc_str = [str(i) for i in trtc.index]\n",
        "\n",
        "barplot(trtc_str, trtc.values)"
      ]
    },
    {
      "cell_type": "code",
      "execution_count": null,
      "metadata": {
        "id": "8XfJeXMB_QDo",
        "colab": {
          "base_uri": "https://localhost:8080/",
          "height": 430
        },
        "outputId": "aacfdb88-da07-420b-c58e-f350e7047d7e"
      },
      "outputs": [
        {
          "output_type": "display_data",
          "data": {
            "text/plain": [
              "<Figure size 640x480 with 1 Axes>"
            ],
            "image/png": "[encoded data removed]"
          },
          "metadata": {}
        }
      ],
      "source": [
        "vtc = val_target_classes.value_counts()\n",
        "vtc = vtc.sort_index()\n",
        "\n",
        "vtc_str = [str(i) for i in trtc.index]\n",
        "\n",
        "barplot(vtc_str, vtc.values)"
      ]
    },
    {
      "cell_type": "code",
      "execution_count": null,
      "metadata": {
        "id": "OUI9Ksgq_QDo",
        "colab": {
          "base_uri": "https://localhost:8080/",
          "height": 430
        },
        "outputId": "7bd47904-d193-4798-c9c2-e5f5c1eae1c2"
      },
      "outputs": [
        {
          "output_type": "display_data",
          "data": {
            "text/plain": [
              "<Figure size 640x480 with 1 Axes>"
            ],
            "image/png": "[encoded data removed]"
          },
          "metadata": {}
        }
      ],
      "source": [
        "tetc = test_target_classes.value_counts()\n",
        "tetc = tetc.sort_index()\n",
        "tetc_str = [str(i) for i in tetc.index]\n",
        "\n",
        "barplot(tetc_str, tetc.values)"
      ]
    },
    {
      "cell_type": "markdown",
      "metadata": {
        "id": "4oZqvqYo_QDo"
      },
      "source": [
        "Number of pixels in the image (Height and width individually)"
      ]
    },
    {
      "cell_type": "code",
      "execution_count": null,
      "metadata": {
        "id": "FRJD9Dra_QDp",
        "colab": {
          "base_uri": "https://localhost:8080/",
          "height": 470
        },
        "outputId": "66e752a6-be6e-4c48-a62c-c89ac526fca8"
      },
      "outputs": [
        {
          "output_type": "execute_result",
          "data": {
            "text/plain": [
              "Text(0.5, 1.0, 'Height: 32 pixels | Width: 32 pixels')"
            ]
          },
          "metadata": {},
          "execution_count": 12
        },
        {
          "output_type": "display_data",
          "data": {
            "text/plain": [
              "<Figure size 640x480 with 1 Axes>"
            ],
            "image/png": "[encoded data removed]"
          },
          "metadata": {}
        }
      ],
      "source": [
        "train_example, _ = next(iter(train_data))\n",
        "image_shape = train_example[0].shape\n",
        "\n",
        "plt.imshow(train_example[0])\n",
        "plt.title('Height: {} pixels | Width: {} pixels'.format(image_shape[0], image_shape[1]))"
      ]
    },
    {
      "cell_type": "markdown",
      "metadata": {
        "id": "vyoQg1Nq_QDp"
      },
      "source": [
        "Display at least 2 images of each class"
      ]
    },
    {
      "cell_type": "code",
      "execution_count": null,
      "metadata": {
        "id": "MuRH8ZCh_QDp"
      },
      "outputs": [],
      "source": [
        "counts = {}\n",
        "images = []\n",
        "for d, l in train_data:\n",
        "    if np.sum(counts.values) == 20:\n",
        "        break\n",
        "\n",
        "    cs = l.numpy()\n",
        "    ds = d.numpy()\n",
        "    for i in range(len(cs)):\n",
        "        c = cs[i]\n",
        "        if c not in counts:\n",
        "            counts[c] = 1\n",
        "        elif counts[c] < 2:\n",
        "            counts[c] +=1\n",
        "        else:\n",
        "            continue\n",
        "\n",
        "        images.append([ds[i], c])"
      ]
    },
    {
      "cell_type": "code",
      "execution_count": null,
      "metadata": {
        "id": "PHUBtRn5_QDp",
        "colab": {
          "base_uri": "https://localhost:8080/",
          "height": 826
        },
        "outputId": "a84d418e-0742-44c0-adb9-fdb86fdc62ec"
      },
      "outputs": [
        {
          "output_type": "display_data",
          "data": {
            "text/plain": [
              "<Figure size 1000x1000 with 20 Axes>"
            ],
            "image/png": "[encoded data removed]"
          },
          "metadata": {}
        }
      ],
      "source": [
        "plt.figure(figsize = (10, 10))\n",
        "for i, im in enumerate(images):\n",
        "    plt.subplot(5, 4, i + 1)\n",
        "    plt.xticks([])\n",
        "    plt.yticks([])\n",
        "    plt.grid(False)\n",
        "    plt.imshow(im[0], cmap = plt.cm.binary)\n",
        "    plt.xlabel(im[1])\n",
        "plt.show()"
      ]
    },
    {
      "cell_type": "markdown",
      "metadata": {
        "id": "C24uvlS-_QDp"
      },
      "source": [
        "**Train a neural network **\n",
        "\n",
        "Decide number of layers and neurons in each layer"
      ]
    },
    {
      "cell_type": "code",
      "execution_count": null,
      "metadata": {
        "id": "4nAZRCOG_QDp"
      },
      "outputs": [],
      "source": [
        "AUTOTUNE = tf.data.AUTOTUNE\n",
        "\n",
        "train_ds = train_data.cache().shuffle(1000).prefetch(buffer_size=AUTOTUNE)\n",
        "val_ds = val_data.cache().shuffle(1000).prefetch(buffer_size=AUTOTUNE)\n",
        "test_ds = test_data.cache().shuffle(1000).prefetch(buffer_size=AUTOTUNE)"
      ]
    },
    {
      "cell_type": "code",
      "execution_count": null,
      "metadata": {
        "id": "fYQd4vMv_QDp"
      },
      "outputs": [],
      "source": [
        "train_ds = train_ds.map(lambda x, y: (x, tf.cast(y, tf.int64)))\n",
        "val_ds = val_ds.map(lambda x, y: (x, tf.cast(y, tf.int64)))\n",
        "test_ds = test_ds.map(lambda x, y: (x, tf.cast(y, tf.int64)))"
      ]
    },
    {
      "cell_type": "code",
      "execution_count": null,
      "metadata": {
        "id": "PN8iIhqZ_QDq"
      },
      "outputs": [],
      "source": [
        "def create_model(num_class, hid_acti='relu', fc_act='relu', dropout=0., reg_type=None, penalty_type='L1', reg_rate=0.1):\n",
        "\n",
        "  def full_connect_layer(neurons, pt):\n",
        "    penalty = tf.keras.regularizers.L1L2(reg_rate) if \\\n",
        "      pt == 'L1L2' else tf.keras.regularizers.L2(reg_rate) if \\\n",
        "      pt == 'L2' else tf.keras.regularizers.L1(reg_rate)\n",
        "\n",
        "    if reg_type == 'kernel':\n",
        "      fc = tf.keras.layers.Dense(neurons, activation=fc_act, kernel_regularizer=penalty)\n",
        "    elif reg_type == 'bias':\n",
        "      fc = tf.keras.layers.Dense(neurons, activation=fc_act, bias_regularizer=penalty)\n",
        "    elif reg_type == 'activity':\n",
        "      fc = tf.keras.layers.Dense(neurons, activation=fc_act, activity_regularizer=penalty)\n",
        "    else:\n",
        "      fc = tf.keras.layers.Dense(neurons, activation=fc_act)\n",
        "\n",
        "    return fc\n",
        "\n",
        "  inputs = tf.keras.Input(shape=image_shape)\n",
        "\n",
        "  conv = lambda filter: tf.keras.layers.Conv2D(filter, 3, padding='same', activation=hid_acti)\n",
        "\n",
        "  max_pool_2d = tf.keras.layers.MaxPooling2D()\n",
        "\n",
        "  x = conv(16)(inputs)\n",
        "  x = max_pool_2d(x)\n",
        "  x = conv(32)(x)\n",
        "  x = max_pool_2d(x)\n",
        "  x = conv(64)(x)\n",
        "  x = max_pool_2d(x)\n",
        "  x = tf.keras.layers.Flatten()(x)\n",
        "  x = full_connect_layer(128, penalty_type)(x)\n",
        "\n",
        "  if dropout:\n",
        "    x = tf.keras.layers.Dropout(dropout)(x)\n",
        "\n",
        "  outputs = tf.keras.layers.Dense(num_class)(x)\n",
        "\n",
        "  model = tf.keras.Model(inputs=inputs, outputs=outputs)\n",
        "\n",
        "  return model"
      ]
    },
    {
      "cell_type": "code",
      "execution_count": null,
      "metadata": {
        "id": "dLiMkveg_QDq"
      },
      "outputs": [],
      "source": [
        "model = create_model(len(trtc_str))"
      ]
    },
    {
      "cell_type": "code",
      "execution_count": null,
      "metadata": {
        "id": "OAoQEST5_QDq"
      },
      "outputs": [],
      "source": [
        "model.compile(optimizer='adam', loss=tf.keras.losses.SparseCategoricalCrossentropy(from_logits=True), metrics=['accuracy'])"
      ]
    },
    {
      "cell_type": "code",
      "execution_count": null,
      "metadata": {
        "id": "-0XGWRwh_QDq",
        "colab": {
          "base_uri": "https://localhost:8080/"
        },
        "outputId": "dd6d27c0-5ecf-4232-e319-2ac3ce741bfc"
      },
      "outputs": [
        {
          "output_type": "stream",
          "name": "stdout",
          "text": [
            "Model: \"model\"\n",
            "__________________________________________________________________________________________________\n",
            " Layer (type)                Output Shape                 Param #   Connected to                  \n",
            "==================================================================================================\n",
            " input_1 (InputLayer)        [(None, 32, 32, 3)]          0         []                            \n",
            "                                                                                                  \n",
            " conv2d (Conv2D)             (None, 32, 32, 16)           448       ['input_1[0][0]']             \n",
            "                                                                                                  \n",
            " max_pooling2d (MaxPooling2  multiple                     0         ['conv2d[0][0]',              \n",
            " D)                                                                  'conv2d_1[0][0]',            \n",
            "                                                                     'conv2d_2[0][0]']            \n",
            "                                                                                                  \n",
            " conv2d_1 (Conv2D)           (None, 16, 16, 32)           4640      ['max_pooling2d[0][0]']       \n",
            "                                                                                                  \n",
            " conv2d_2 (Conv2D)           (None, 8, 8, 64)             18496     ['max_pooling2d[1][0]']       \n",
            "                                                                                                  \n",
            " flatten (Flatten)           (None, 1024)                 0         ['max_pooling2d[2][0]']       \n",
            "                                                                                                  \n",
            " dense (Dense)               (None, 128)                  131200    ['flatten[0][0]']             \n",
            "                                                                                                  \n",
            " dense_1 (Dense)             (None, 10)                   1290      ['dense[0][0]']               \n",
            "                                                                                                  \n",
            "==================================================================================================\n",
            "Total params: 156074 (609.66 KB)\n",
            "Trainable params: 156074 (609.66 KB)\n",
            "Non-trainable params: 0 (0.00 Byte)\n",
            "__________________________________________________________________________________________________\n"
          ]
        }
      ],
      "source": [
        "model.summary()"
      ]
    },
    {
      "cell_type": "code",
      "execution_count": null,
      "metadata": {
        "id": "oeA-W5PL_QDq",
        "colab": {
          "base_uri": "https://localhost:8080/"
        },
        "outputId": "d1dcc206-814d-442b-faf0-0011680f1b70"
      },
      "outputs": [
        {
          "output_type": "stream",
          "name": "stdout",
          "text": [
            "Epoch 1/10\n",
            "1374/1374 [==============================] - 19s 5ms/step - loss: 1.2661 - accuracy: 0.6363 - val_loss: 0.7744 - val_accuracy: 0.7645\n",
            "Epoch 2/10\n",
            "1374/1374 [==============================] - 6s 5ms/step - loss: 0.6057 - accuracy: 0.8198 - val_loss: 0.5540 - val_accuracy: 0.8371\n",
            "Epoch 3/10\n",
            "1374/1374 [==============================] - 6s 5ms/step - loss: 0.5095 - accuracy: 0.8499 - val_loss: 0.4804 - val_accuracy: 0.8571\n",
            "Epoch 4/10\n",
            "1374/1374 [==============================] - 6s 5ms/step - loss: 0.4520 - accuracy: 0.8650 - val_loss: 0.5003 - val_accuracy: 0.8513\n",
            "Epoch 5/10\n",
            "1374/1374 [==============================] - 6s 5ms/step - loss: 0.4053 - accuracy: 0.8801 - val_loss: 0.4804 - val_accuracy: 0.8616\n",
            "Epoch 6/10\n",
            "1374/1374 [==============================] - 6s 5ms/step - loss: 0.3748 - accuracy: 0.8848 - val_loss: 0.5146 - val_accuracy: 0.8529\n",
            "Epoch 7/10\n",
            "1374/1374 [==============================] - 6s 5ms/step - loss: 0.3441 - accuracy: 0.8960 - val_loss: 0.4465 - val_accuracy: 0.8714\n",
            "Epoch 8/10\n",
            "1374/1374 [==============================] - 6s 5ms/step - loss: 0.3191 - accuracy: 0.9029 - val_loss: 0.4837 - val_accuracy: 0.8599\n",
            "Epoch 9/10\n",
            "1374/1374 [==============================] - 6s 5ms/step - loss: 0.2949 - accuracy: 0.9091 - val_loss: 0.4605 - val_accuracy: 0.8768\n",
            "Epoch 10/10\n",
            "1374/1374 [==============================] - 6s 5ms/step - loss: 0.2772 - accuracy: 0.9146 - val_loss: 0.4498 - val_accuracy: 0.8746\n"
          ]
        },
        {
          "output_type": "execute_result",
          "data": {
            "text/plain": [
              "<keras.src.callbacks.History at 0x7fb8d45c38e0>"
            ]
          },
          "metadata": {},
          "execution_count": 21
        }
      ],
      "source": [
        "model.fit(train_ds, validation_data=val_ds, epochs=10)"
      ]
    },
    {
      "cell_type": "code",
      "execution_count": null,
      "metadata": {
        "id": "_ApuaS_w_QDq",
        "colab": {
          "base_uri": "https://localhost:8080/"
        },
        "outputId": "eff3b179-a357-4a0d-955a-d4d6f50f52cc"
      },
      "outputs": [
        {
          "output_type": "stream",
          "name": "stdout",
          "text": [
            "814/814 - 2s - loss: 0.5144 - accuracy: 0.8669 - 2s/epoch - 2ms/step\n",
            "loss: 0.514\n",
            "accuracy: 0.867\n"
          ]
        }
      ],
      "source": [
        "results = model.evaluate(test_data, verbose=2)\n",
        "\n",
        "for name, value in zip(model.metrics_names, results): print(\"%s: %.3f\" % (name, value))"
      ]
    },
    {
      "cell_type": "markdown",
      "metadata": {
        "id": "9_lNhWkh_QDq"
      },
      "source": [
        "Try out different activation functions (explain each one you used)\n",
        "1. Softmax is used in multi-class classification for converting input into probabilities of belonging to specific classes\n",
        "\n",
        "2. Tanh is a scaled sigmoid function that compresses input values to the range [-1, 1]. It is useful for modeling inputs that have many strongly negative, neutral, or positive elements and require zero-centered output.\n",
        "\n",
        "3. Elu is an activation function that solves the vanishing gradient problem in deep neural networks by allowing negative values to speed up learning.\n"
      ]
    },
    {
      "cell_type": "markdown",
      "metadata": {
        "id": "BSSaI0GH_QDq"
      },
      "source": [
        "*Using Softmax for fc layer*"
      ]
    },
    {
      "cell_type": "code",
      "execution_count": null,
      "metadata": {
        "id": "-YzCrrr2_QDq",
        "colab": {
          "base_uri": "https://localhost:8080/"
        },
        "outputId": "bf83b020-a51c-4fea-fee9-fe82295dc775"
      },
      "outputs": [
        {
          "output_type": "stream",
          "name": "stdout",
          "text": [
            "Epoch 1/10\n",
            "1374/1374 [==============================] - 8s 5ms/step - loss: 2.2444 - accuracy: 0.1869 - val_loss: 2.2344 - val_accuracy: 0.1904\n",
            "Epoch 2/10\n",
            "1374/1374 [==============================] - 6s 5ms/step - loss: 2.2384 - accuracy: 0.1884 - val_loss: 2.2340 - val_accuracy: 0.1904\n",
            "Epoch 3/10\n",
            "1374/1374 [==============================] - 6s 5ms/step - loss: 2.2384 - accuracy: 0.1884 - val_loss: 2.2340 - val_accuracy: 0.1904\n",
            "Epoch 4/10\n",
            "1374/1374 [==============================] - 6s 5ms/step - loss: 2.2384 - accuracy: 0.1884 - val_loss: 2.2341 - val_accuracy: 0.1904\n",
            "Epoch 5/10\n",
            "1374/1374 [==============================] - 6s 5ms/step - loss: 2.2384 - accuracy: 0.1884 - val_loss: 2.2340 - val_accuracy: 0.1904\n",
            "Epoch 6/10\n",
            "1374/1374 [==============================] - 6s 5ms/step - loss: 2.2383 - accuracy: 0.1884 - val_loss: 2.2341 - val_accuracy: 0.1904\n",
            "Epoch 7/10\n",
            "1374/1374 [==============================] - 6s 5ms/step - loss: 2.2384 - accuracy: 0.1884 - val_loss: 2.2342 - val_accuracy: 0.1904\n",
            "Epoch 8/10\n",
            "1374/1374 [==============================] - 6s 5ms/step - loss: 2.2384 - accuracy: 0.1884 - val_loss: 2.2344 - val_accuracy: 0.1904\n",
            "Epoch 9/10\n",
            "1374/1374 [==============================] - 6s 5ms/step - loss: 2.2384 - accuracy: 0.1884 - val_loss: 2.2342 - val_accuracy: 0.1904\n",
            "Epoch 10/10\n",
            "1374/1374 [==============================] - 6s 5ms/step - loss: 2.2384 - accuracy: 0.1884 - val_loss: 2.2344 - val_accuracy: 0.1904\n"
          ]
        },
        {
          "output_type": "execute_result",
          "data": {
            "text/plain": [
              "<keras.src.callbacks.History at 0x7fb8d42c24d0>"
            ]
          },
          "metadata": {},
          "execution_count": 23
        }
      ],
      "source": [
        "model_2 = create_model(len(trtc_str), fc_act='Softmax')\n",
        "model_2.compile(optimizer='adam', loss=tf.keras.losses.SparseCategoricalCrossentropy(from_logits=True), metrics=['accuracy'])\n",
        "model_2.fit(train_ds, validation_data=val_ds, epochs=10)"
      ]
    },
    {
      "cell_type": "code",
      "execution_count": null,
      "metadata": {
        "id": "_PntiycU_QDq",
        "colab": {
          "base_uri": "https://localhost:8080/"
        },
        "outputId": "77a2a08b-8752-49e0-9d5c-c203b5d31730"
      },
      "outputs": [
        {
          "output_type": "stream",
          "name": "stdout",
          "text": [
            "814/814 - 2s - loss: 2.2249 - accuracy: 0.1959 - 2s/epoch - 2ms/step\n",
            "loss: 2.225\n",
            "accuracy: 0.196\n"
          ]
        }
      ],
      "source": [
        "results = model_2.evaluate(test_data, verbose=2)\n",
        "\n",
        "for name, value in zip(model_2.metrics_names, results): print(\"%s: %.3f\" % (name, value))"
      ]
    },
    {
      "cell_type": "markdown",
      "metadata": {
        "id": "JRE5h4zZ_QDr"
      },
      "source": [
        "*Using Tanh for fc layer*"
      ]
    },
    {
      "cell_type": "code",
      "execution_count": null,
      "metadata": {
        "id": "AYEUQXXJ_QDr",
        "colab": {
          "base_uri": "https://localhost:8080/"
        },
        "outputId": "d3db365e-a9b2-4005-9e73-b0e436373c36"
      },
      "outputs": [
        {
          "output_type": "stream",
          "name": "stdout",
          "text": [
            "Epoch 1/10\n",
            "1374/1374 [==============================] - 8s 5ms/step - loss: 2.2560 - accuracy: 0.1818 - val_loss: 2.2397 - val_accuracy: 0.1904\n",
            "Epoch 2/10\n",
            "1374/1374 [==============================] - 6s 5ms/step - loss: 2.2537 - accuracy: 0.1814 - val_loss: 2.2460 - val_accuracy: 0.1904\n",
            "Epoch 3/10\n",
            "1374/1374 [==============================] - 6s 5ms/step - loss: 2.2538 - accuracy: 0.1815 - val_loss: 2.2436 - val_accuracy: 0.1904\n",
            "Epoch 4/10\n",
            "1374/1374 [==============================] - 6s 5ms/step - loss: 2.2553 - accuracy: 0.1816 - val_loss: 2.2466 - val_accuracy: 0.1904\n",
            "Epoch 5/10\n",
            "1374/1374 [==============================] - 6s 5ms/step - loss: 2.2542 - accuracy: 0.1833 - val_loss: 2.2385 - val_accuracy: 0.1904\n",
            "Epoch 6/10\n",
            "1374/1374 [==============================] - 6s 5ms/step - loss: 2.2535 - accuracy: 0.1816 - val_loss: 2.2452 - val_accuracy: 0.1904\n",
            "Epoch 7/10\n",
            "1374/1374 [==============================] - 6s 5ms/step - loss: 2.2549 - accuracy: 0.1818 - val_loss: 2.2628 - val_accuracy: 0.0999\n",
            "Epoch 8/10\n",
            "1374/1374 [==============================] - 6s 5ms/step - loss: 2.2554 - accuracy: 0.1810 - val_loss: 2.2514 - val_accuracy: 0.1904\n",
            "Epoch 9/10\n",
            "1374/1374 [==============================] - 6s 5ms/step - loss: 2.2550 - accuracy: 0.1817 - val_loss: 2.2389 - val_accuracy: 0.1904\n",
            "Epoch 10/10\n",
            "1374/1374 [==============================] - 6s 5ms/step - loss: 2.2550 - accuracy: 0.1816 - val_loss: 2.2623 - val_accuracy: 0.1904\n"
          ]
        },
        {
          "output_type": "execute_result",
          "data": {
            "text/plain": [
              "<keras.src.callbacks.History at 0x7fb8ca1cce80>"
            ]
          },
          "metadata": {},
          "execution_count": 25
        }
      ],
      "source": [
        "model_3 = create_model(len(trtc_str), fc_act='tanh')\n",
        "model_3.compile(optimizer='adam', loss=tf.keras.losses.SparseCategoricalCrossentropy(from_logits=True), metrics=['accuracy'])\n",
        "model_3.fit(train_ds, validation_data=val_ds, epochs=10)"
      ]
    },
    {
      "cell_type": "code",
      "execution_count": null,
      "metadata": {
        "id": "azHnOhc4_QDr",
        "colab": {
          "base_uri": "https://localhost:8080/"
        },
        "outputId": "d34f791f-3295-41c3-cdce-d74f61d87dfb"
      },
      "outputs": [
        {
          "output_type": "stream",
          "name": "stdout",
          "text": [
            "814/814 - 2s - loss: 2.2548 - accuracy: 0.1956 - 2s/epoch - 2ms/step\n",
            "loss: 2.255\n",
            "accuracy: 0.196\n"
          ]
        }
      ],
      "source": [
        "results = model_3.evaluate(test_data, verbose=2)\n",
        "\n",
        "for name, value in zip(model_3.metrics_names, results): print(\"%s: %.3f\" % (name, value))"
      ]
    },
    {
      "cell_type": "markdown",
      "metadata": {
        "id": "uw9NTwT__QDr"
      },
      "source": [
        "*Using Elu for fc layer*"
      ]
    },
    {
      "cell_type": "code",
      "execution_count": null,
      "metadata": {
        "id": "E-D87dZu_QDr",
        "colab": {
          "base_uri": "https://localhost:8080/"
        },
        "outputId": "1c17f78b-b2a7-4148-b5c5-a05032bd620c"
      },
      "outputs": [
        {
          "output_type": "stream",
          "name": "stdout",
          "text": [
            "Epoch 1/10\n",
            "1374/1374 [==============================] - 8s 5ms/step - loss: 1.2835 - accuracy: 0.6581 - val_loss: 0.5878 - val_accuracy: 0.8217\n",
            "Epoch 2/10\n",
            "1374/1374 [==============================] - 6s 5ms/step - loss: 0.5254 - accuracy: 0.8411 - val_loss: 0.4997 - val_accuracy: 0.8482\n",
            "Epoch 3/10\n",
            "1374/1374 [==============================] - 6s 5ms/step - loss: 0.4324 - accuracy: 0.8683 - val_loss: 0.4666 - val_accuracy: 0.8608\n",
            "Epoch 4/10\n",
            "1374/1374 [==============================] - 6s 5ms/step - loss: 0.3848 - accuracy: 0.8822 - val_loss: 0.4611 - val_accuracy: 0.8647\n",
            "Epoch 5/10\n",
            "1374/1374 [==============================] - 6s 5ms/step - loss: 0.3480 - accuracy: 0.8933 - val_loss: 0.4776 - val_accuracy: 0.8623\n",
            "Epoch 6/10\n",
            "1374/1374 [==============================] - 6s 5ms/step - loss: 0.3102 - accuracy: 0.9034 - val_loss: 0.4422 - val_accuracy: 0.8716\n",
            "Epoch 7/10\n",
            "1374/1374 [==============================] - 6s 5ms/step - loss: 0.2810 - accuracy: 0.9130 - val_loss: 0.4804 - val_accuracy: 0.8691\n",
            "Epoch 8/10\n",
            "1374/1374 [==============================] - 6s 5ms/step - loss: 0.2622 - accuracy: 0.9178 - val_loss: 0.4865 - val_accuracy: 0.8678\n",
            "Epoch 9/10\n",
            "1374/1374 [==============================] - 6s 5ms/step - loss: 0.2314 - accuracy: 0.9248 - val_loss: 0.5310 - val_accuracy: 0.8781\n",
            "Epoch 10/10\n",
            "1374/1374 [==============================] - 6s 5ms/step - loss: 0.2158 - accuracy: 0.9311 - val_loss: 0.5170 - val_accuracy: 0.8789\n"
          ]
        },
        {
          "output_type": "execute_result",
          "data": {
            "text/plain": [
              "<keras.src.callbacks.History at 0x7fb8cbf981f0>"
            ]
          },
          "metadata": {},
          "execution_count": 27
        }
      ],
      "source": [
        "model_4 = create_model(len(trtc_str), fc_act='elu')\n",
        "model_4.compile(optimizer='adam', loss=tf.keras.losses.SparseCategoricalCrossentropy(from_logits = True), metrics=['accuracy'])\n",
        "model_4.fit(train_ds, validation_data=val_ds, epochs=10)"
      ]
    },
    {
      "cell_type": "code",
      "execution_count": null,
      "metadata": {
        "id": "3LuzeXUR_QDr",
        "colab": {
          "base_uri": "https://localhost:8080/"
        },
        "outputId": "64f01429-70fc-4616-fb81-5ed51b3cbe86"
      },
      "outputs": [
        {
          "output_type": "stream",
          "name": "stdout",
          "text": [
            "814/814 - 2s - loss: 0.6456 - accuracy: 0.8632 - 2s/epoch - 2ms/step\n",
            "loss: 0.646\n",
            "accuracy: 0.863\n"
          ]
        }
      ],
      "source": [
        "results = model_4.evaluate(test_data, verbose=2)\n",
        "\n",
        "for name, value in zip(model_4.metrics_names, results): print(\"%s: %.3f\" % (name, value))"
      ]
    },
    {
      "cell_type": "markdown",
      "metadata": {
        "id": "4BnaUZtl_QDr"
      },
      "source": [
        "Try with and without using drop out"
      ]
    },
    {
      "cell_type": "markdown",
      "metadata": {
        "id": "oVf3OmXO_QD5"
      },
      "source": [
        "*With dropout*"
      ]
    },
    {
      "cell_type": "code",
      "execution_count": null,
      "metadata": {
        "id": "T0k3mUlA_QD5",
        "colab": {
          "base_uri": "https://localhost:8080/"
        },
        "outputId": "92e9cc1f-98b2-44cf-8f05-3f407633c238"
      },
      "outputs": [
        {
          "output_type": "stream",
          "name": "stdout",
          "text": [
            "Epoch 1/10\n",
            "1374/1374 [==============================] - 9s 5ms/step - loss: 1.6903 - accuracy: 0.4530 - val_loss: 0.8718 - val_accuracy: 0.7318\n",
            "Epoch 2/10\n",
            "1374/1374 [==============================] - 7s 5ms/step - loss: 0.8353 - accuracy: 0.7406 - val_loss: 0.6896 - val_accuracy: 0.7843\n",
            "Epoch 3/10\n",
            "1374/1374 [==============================] - 7s 5ms/step - loss: 0.6731 - accuracy: 0.7949 - val_loss: 0.5443 - val_accuracy: 0.8426\n",
            "Epoch 4/10\n",
            "1374/1374 [==============================] - 7s 5ms/step - loss: 0.6020 - accuracy: 0.8186 - val_loss: 0.5004 - val_accuracy: 0.8519\n",
            "Epoch 5/10\n",
            "1374/1374 [==============================] - 7s 5ms/step - loss: 0.5358 - accuracy: 0.8427 - val_loss: 0.4701 - val_accuracy: 0.8635\n",
            "Epoch 6/10\n",
            "1374/1374 [==============================] - 6s 5ms/step - loss: 0.4967 - accuracy: 0.8506 - val_loss: 0.4774 - val_accuracy: 0.8597\n",
            "Epoch 7/10\n",
            "1374/1374 [==============================] - 6s 5ms/step - loss: 0.4687 - accuracy: 0.8584 - val_loss: 0.4962 - val_accuracy: 0.8659\n",
            "Epoch 8/10\n",
            "1374/1374 [==============================] - 7s 5ms/step - loss: 0.4442 - accuracy: 0.8663 - val_loss: 0.4602 - val_accuracy: 0.8674\n",
            "Epoch 9/10\n",
            "1374/1374 [==============================] - 6s 5ms/step - loss: 0.4187 - accuracy: 0.8731 - val_loss: 0.4497 - val_accuracy: 0.8762\n",
            "Epoch 10/10\n",
            "1374/1374 [==============================] - 7s 5ms/step - loss: 0.4045 - accuracy: 0.8769 - val_loss: 0.4464 - val_accuracy: 0.8705\n"
          ]
        },
        {
          "output_type": "execute_result",
          "data": {
            "text/plain": [
              "<keras.src.callbacks.History at 0x7fb8c9555900>"
            ]
          },
          "metadata": {},
          "execution_count": 29
        }
      ],
      "source": [
        "model_5 = create_model(len(trtc_str), dropout=0.3)\n",
        "model_5.compile(optimizer='adam', loss=tf.keras.losses.SparseCategoricalCrossentropy(from_logits = True), metrics=['accuracy'])\n",
        "model_5.fit(train_ds, validation_data=val_ds, epochs=10)"
      ]
    },
    {
      "cell_type": "code",
      "execution_count": null,
      "metadata": {
        "id": "kDvgZmFs_QD5",
        "colab": {
          "base_uri": "https://localhost:8080/"
        },
        "outputId": "15fd48dd-846f-46f7-934e-6bb022a5b810"
      },
      "outputs": [
        {
          "output_type": "stream",
          "name": "stdout",
          "text": [
            "814/814 - 2s - loss: 0.4925 - accuracy: 0.8626 - 2s/epoch - 2ms/step\n",
            "loss: 0.492\n",
            "accuracy: 0.863\n"
          ]
        }
      ],
      "source": [
        "results = model_5.evaluate(test_data, verbose=2)\n",
        "\n",
        "for name, value in zip(model_5.metrics_names, results): print(\"%s: %.3f\" % (name, value))"
      ]
    },
    {
      "cell_type": "markdown",
      "metadata": {
        "id": "WSf4Q4EX_QD5"
      },
      "source": [
        "Try different regularizations apart from drop out"
      ]
    },
    {
      "cell_type": "markdown",
      "metadata": {
        "id": "MuSPA58J_QD5"
      },
      "source": [
        "*Kernel reguarlizer with L1*"
      ]
    },
    {
      "cell_type": "code",
      "execution_count": null,
      "metadata": {
        "id": "mGCsVEK7_QD5",
        "colab": {
          "base_uri": "https://localhost:8080/"
        },
        "outputId": "91bb3b04-1c93-4ba1-982b-426cf86002da"
      },
      "outputs": [
        {
          "output_type": "stream",
          "name": "stdout",
          "text": [
            "Epoch 1/10\n",
            "1374/1374 [==============================] - 8s 5ms/step - loss: 17.5119 - accuracy: 0.2869 - val_loss: 3.5193 - val_accuracy: 0.4906\n",
            "Epoch 2/10\n",
            "1374/1374 [==============================] - 6s 5ms/step - loss: 2.9696 - accuracy: 0.6179 - val_loss: 2.7705 - val_accuracy: 0.6589\n",
            "Epoch 3/10\n",
            "1374/1374 [==============================] - 7s 5ms/step - loss: 2.6155 - accuracy: 0.7053 - val_loss: 2.5549 - val_accuracy: 0.7120\n",
            "Epoch 4/10\n",
            "1374/1374 [==============================] - 6s 5ms/step - loss: 2.4754 - accuracy: 0.7385 - val_loss: 2.3993 - val_accuracy: 0.7523\n",
            "Epoch 5/10\n",
            "1374/1374 [==============================] - 6s 5ms/step - loss: 2.3994 - accuracy: 0.7542 - val_loss: 2.3292 - val_accuracy: 0.7610\n",
            "Epoch 6/10\n",
            "1374/1374 [==============================] - 7s 5ms/step - loss: 2.3460 - accuracy: 0.7612 - val_loss: 2.3332 - val_accuracy: 0.7617\n",
            "Epoch 7/10\n",
            "1374/1374 [==============================] - 6s 5ms/step - loss: 2.3112 - accuracy: 0.7733 - val_loss: 2.2898 - val_accuracy: 0.7857\n",
            "Epoch 8/10\n",
            "1374/1374 [==============================] - 7s 5ms/step - loss: 2.2677 - accuracy: 0.7851 - val_loss: 2.2687 - val_accuracy: 0.7865\n",
            "Epoch 9/10\n",
            "1374/1374 [==============================] - 6s 5ms/step - loss: 2.2413 - accuracy: 0.7908 - val_loss: 2.3002 - val_accuracy: 0.7719\n",
            "Epoch 10/10\n",
            "1374/1374 [==============================] - 7s 5ms/step - loss: 2.2212 - accuracy: 0.7976 - val_loss: 2.3095 - val_accuracy: 0.7713\n"
          ]
        },
        {
          "output_type": "execute_result",
          "data": {
            "text/plain": [
              "<keras.src.callbacks.History at 0x7fb8c9945210>"
            ]
          },
          "metadata": {},
          "execution_count": 31
        }
      ],
      "source": [
        "model_6 = create_model(len(trtc_str), reg_type='kernel', penalty_type='L1')\n",
        "model_6.compile(optimizer='adam', loss=tf.keras.losses.SparseCategoricalCrossentropy(from_logits = True), metrics=['accuracy'])\n",
        "model_6.fit(train_ds, validation_data=val_ds, epochs=10)"
      ]
    },
    {
      "cell_type": "code",
      "execution_count": null,
      "metadata": {
        "id": "ah8AcH_N_QD5",
        "colab": {
          "base_uri": "https://localhost:8080/"
        },
        "outputId": "1aa86a35-e6f9-48d8-e8d3-1b5e95c992cd"
      },
      "outputs": [
        {
          "output_type": "stream",
          "name": "stdout",
          "text": [
            "814/814 - 2s - loss: 2.3706 - accuracy: 0.7607 - 2s/epoch - 2ms/step\n",
            "loss: 2.371\n",
            "accuracy: 0.761\n"
          ]
        }
      ],
      "source": [
        "results = model_6.evaluate(test_data, verbose=2)\n",
        "\n",
        "for name, value in zip(model_6.metrics_names, results): print(\"%s: %.3f\" % (name, value))"
      ]
    },
    {
      "cell_type": "markdown",
      "metadata": {
        "id": "WFSfVmB8_QD5"
      },
      "source": [
        "*Kernel reguarlizer with L2*"
      ]
    },
    {
      "cell_type": "code",
      "execution_count": null,
      "metadata": {
        "id": "PPW4DNBd_QD5",
        "colab": {
          "base_uri": "https://localhost:8080/"
        },
        "outputId": "a52aab90-5abd-4bf7-cef9-bf898e626927"
      },
      "outputs": [
        {
          "output_type": "stream",
          "name": "stdout",
          "text": [
            "Epoch 1/10\n",
            "1374/1374 [==============================] - 8s 5ms/step - loss: 4.6447 - accuracy: 0.5299 - val_loss: 1.1625 - val_accuracy: 0.7666\n",
            "Epoch 2/10\n",
            "1374/1374 [==============================] - 6s 5ms/step - loss: 0.9280 - accuracy: 0.7893 - val_loss: 0.7833 - val_accuracy: 0.8160\n",
            "Epoch 3/10\n",
            "1374/1374 [==============================] - 7s 5ms/step - loss: 0.7492 - accuracy: 0.8212 - val_loss: 0.7226 - val_accuracy: 0.8236\n",
            "Epoch 4/10\n",
            "1374/1374 [==============================] - 7s 5ms/step - loss: 0.6868 - accuracy: 0.8343 - val_loss: 0.6889 - val_accuracy: 0.8317\n",
            "Epoch 5/10\n",
            "1374/1374 [==============================] - 7s 5ms/step - loss: 0.6379 - accuracy: 0.8460 - val_loss: 0.6220 - val_accuracy: 0.8523\n",
            "Epoch 6/10\n",
            "1374/1374 [==============================] - 7s 5ms/step - loss: 0.6105 - accuracy: 0.8550 - val_loss: 0.5945 - val_accuracy: 0.8602\n",
            "Epoch 7/10\n",
            "1374/1374 [==============================] - 6s 5ms/step - loss: 0.5852 - accuracy: 0.8615 - val_loss: 0.5823 - val_accuracy: 0.8625\n",
            "Epoch 8/10\n",
            "1374/1374 [==============================] - 7s 5ms/step - loss: 0.5602 - accuracy: 0.8652 - val_loss: 0.5981 - val_accuracy: 0.8568\n",
            "Epoch 9/10\n",
            "1374/1374 [==============================] - 6s 5ms/step - loss: 0.5393 - accuracy: 0.8715 - val_loss: 0.5938 - val_accuracy: 0.8576\n",
            "Epoch 10/10\n",
            "1374/1374 [==============================] - 7s 5ms/step - loss: 0.5279 - accuracy: 0.8730 - val_loss: 0.5664 - val_accuracy: 0.8652\n"
          ]
        },
        {
          "output_type": "execute_result",
          "data": {
            "text/plain": [
              "<keras.src.callbacks.History at 0x7fb8c930c6d0>"
            ]
          },
          "metadata": {},
          "execution_count": 33
        }
      ],
      "source": [
        "model_6 = create_model(len(trtc_str), reg_type='kernel', penalty_type='L2')\n",
        "model_6.compile(optimizer='adam', loss=tf.keras.losses.SparseCategoricalCrossentropy(from_logits = True), metrics=['accuracy'])\n",
        "model_6.fit(train_ds, validation_data=val_ds, epochs=10)"
      ]
    },
    {
      "cell_type": "code",
      "execution_count": null,
      "metadata": {
        "id": "GXfbOvb4_QD6",
        "colab": {
          "base_uri": "https://localhost:8080/"
        },
        "outputId": "64c67e3a-332e-46ad-fb31-d77038f359f6"
      },
      "outputs": [
        {
          "output_type": "stream",
          "name": "stdout",
          "text": [
            "814/814 - 2s - loss: 0.5942 - accuracy: 0.8636 - 2s/epoch - 2ms/step\n",
            "loss: 0.594\n",
            "accuracy: 0.864\n"
          ]
        }
      ],
      "source": [
        "results = model_6.evaluate(test_data, verbose=2)\n",
        "\n",
        "for name, value in zip(model_6.metrics_names, results): print(\"%s: %.3f\" % (name, value))"
      ]
    },
    {
      "cell_type": "markdown",
      "metadata": {
        "id": "eB_Oj1b4_QD6"
      },
      "source": [
        "*Kernel reguarlizer with L1L2*"
      ]
    },
    {
      "cell_type": "code",
      "execution_count": null,
      "metadata": {
        "id": "EpzGfzlv_QD6",
        "colab": {
          "base_uri": "https://localhost:8080/"
        },
        "outputId": "53a82317-b538-4479-a567-34991a18072c"
      },
      "outputs": [
        {
          "output_type": "stream",
          "name": "stdout",
          "text": [
            "Epoch 1/10\n",
            "1374/1374 [==============================] - 8s 5ms/step - loss: 22.7822 - accuracy: 0.3273 - val_loss: 3.1869 - val_accuracy: 0.5520\n",
            "Epoch 2/10\n",
            "1374/1374 [==============================] - 7s 5ms/step - loss: 2.8736 - accuracy: 0.6661 - val_loss: 2.7221 - val_accuracy: 0.7089\n",
            "Epoch 3/10\n",
            "1374/1374 [==============================] - 6s 5ms/step - loss: 2.6120 - accuracy: 0.7423 - val_loss: 2.5070 - val_accuracy: 0.7611\n",
            "Epoch 4/10\n",
            "1374/1374 [==============================] - 7s 5ms/step - loss: 2.4647 - accuracy: 0.7741 - val_loss: 2.4203 - val_accuracy: 0.7782\n",
            "Epoch 5/10\n",
            "1374/1374 [==============================] - 7s 5ms/step - loss: 2.3798 - accuracy: 0.7908 - val_loss: 2.3366 - val_accuracy: 0.8094\n",
            "Epoch 6/10\n",
            "1374/1374 [==============================] - 6s 5ms/step - loss: 2.3260 - accuracy: 0.8010 - val_loss: 2.3189 - val_accuracy: 0.8033\n",
            "Epoch 7/10\n",
            "1374/1374 [==============================] - 7s 5ms/step - loss: 2.2739 - accuracy: 0.8086 - val_loss: 2.3737 - val_accuracy: 0.7851\n",
            "Epoch 8/10\n",
            "1374/1374 [==============================] - 6s 5ms/step - loss: 2.2424 - accuracy: 0.8141 - val_loss: 2.2371 - val_accuracy: 0.8069\n",
            "Epoch 9/10\n",
            "1374/1374 [==============================] - 7s 5ms/step - loss: 2.2233 - accuracy: 0.8197 - val_loss: 2.2318 - val_accuracy: 0.8185\n",
            "Epoch 10/10\n",
            "1374/1374 [==============================] - 7s 5ms/step - loss: 2.2037 - accuracy: 0.8212 - val_loss: 2.2174 - val_accuracy: 0.8256\n"
          ]
        },
        {
          "output_type": "execute_result",
          "data": {
            "text/plain": [
              "<keras.src.callbacks.History at 0x7fb8c7842260>"
            ]
          },
          "metadata": {},
          "execution_count": 79
        }
      ],
      "source": [
        "model_7 = create_model(len(trtc_str), reg_type='kernel', penalty_type='L1L2')\n",
        "model_7.compile(optimizer='adam', loss=tf.keras.losses.SparseCategoricalCrossentropy(from_logits = True), metrics=['accuracy'])\n",
        "model_7.fit(train_ds, validation_data=val_ds, epochs=10)"
      ]
    },
    {
      "cell_type": "code",
      "execution_count": null,
      "metadata": {
        "id": "VGJAodJq_QD6",
        "colab": {
          "base_uri": "https://localhost:8080/"
        },
        "outputId": "ed24d06d-d245-4c4a-e915-eb7da90460d9"
      },
      "outputs": [
        {
          "output_type": "stream",
          "name": "stdout",
          "text": [
            "814/814 - 2s - loss: 2.2546 - accuracy: 0.7993 - 2s/epoch - 2ms/step\n",
            "loss: 2.255\n",
            "accuracy: 0.799\n"
          ]
        }
      ],
      "source": [
        "results = model_7.evaluate(test_data, verbose=2)\n",
        "\n",
        "for name, value in zip(model_7.metrics_names, results): print(\"%s: %.3f\" % (name, value))"
      ]
    },
    {
      "cell_type": "markdown",
      "metadata": {
        "id": "Itxt-IqG_QD6"
      },
      "source": [
        "*Bias reguarlizer with L1*"
      ]
    },
    {
      "cell_type": "code",
      "execution_count": null,
      "metadata": {
        "id": "CmdRTPiL_QD6",
        "colab": {
          "base_uri": "https://localhost:8080/"
        },
        "outputId": "aef37672-fb4b-45fb-a422-c2cc45e46d3a"
      },
      "outputs": [
        {
          "output_type": "stream",
          "name": "stdout",
          "text": [
            "Epoch 1/10\n",
            "1374/1374 [==============================] - 8s 5ms/step - loss: 1.3793 - accuracy: 0.6233 - val_loss: 0.7131 - val_accuracy: 0.7930\n",
            "Epoch 2/10\n",
            "1374/1374 [==============================] - 7s 5ms/step - loss: 0.6127 - accuracy: 0.8211 - val_loss: 0.5298 - val_accuracy: 0.8455\n",
            "Epoch 3/10\n",
            "1374/1374 [==============================] - 7s 5ms/step - loss: 0.4948 - accuracy: 0.8551 - val_loss: 0.5041 - val_accuracy: 0.8533\n",
            "Epoch 4/10\n",
            "1374/1374 [==============================] - 7s 5ms/step - loss: 0.4484 - accuracy: 0.8677 - val_loss: 0.4718 - val_accuracy: 0.8646\n",
            "Epoch 5/10\n",
            "1374/1374 [==============================] - 7s 5ms/step - loss: 0.4049 - accuracy: 0.8792 - val_loss: 0.5173 - val_accuracy: 0.8502\n",
            "Epoch 6/10\n",
            "1374/1374 [==============================] - 7s 5ms/step - loss: 0.3763 - accuracy: 0.8884 - val_loss: 0.4464 - val_accuracy: 0.8711\n",
            "Epoch 7/10\n",
            "1374/1374 [==============================] - 7s 5ms/step - loss: 0.3488 - accuracy: 0.8963 - val_loss: 0.4656 - val_accuracy: 0.8677\n",
            "Epoch 8/10\n",
            "1374/1374 [==============================] - 7s 5ms/step - loss: 0.3190 - accuracy: 0.9045 - val_loss: 0.4626 - val_accuracy: 0.8812\n",
            "Epoch 9/10\n",
            "1374/1374 [==============================] - 6s 5ms/step - loss: 0.3018 - accuracy: 0.9094 - val_loss: 0.4605 - val_accuracy: 0.8836\n",
            "Epoch 10/10\n",
            "1374/1374 [==============================] - 7s 5ms/step - loss: 0.2808 - accuracy: 0.9148 - val_loss: 0.4703 - val_accuracy: 0.8690\n"
          ]
        },
        {
          "output_type": "execute_result",
          "data": {
            "text/plain": [
              "<keras.src.callbacks.History at 0x7fb8b074e920>"
            ]
          },
          "metadata": {},
          "execution_count": 56
        }
      ],
      "source": [
        "model_8 = create_model(len(trtc_str), reg_type='bias', penalty_type='L1')\n",
        "model_8.compile(optimizer='adam', loss=tf.keras.losses.SparseCategoricalCrossentropy(from_logits = True), metrics=['accuracy'])\n",
        "model_8.fit(train_ds, validation_data=val_ds, epochs=10)"
      ]
    },
    {
      "cell_type": "code",
      "execution_count": null,
      "metadata": {
        "id": "b4czoHIP_QD6",
        "colab": {
          "base_uri": "https://localhost:8080/"
        },
        "outputId": "1f0b782f-ba89-47cc-c325-5ab7e951cc16"
      },
      "outputs": [
        {
          "output_type": "stream",
          "name": "stdout",
          "text": [
            "814/814 - 2s - loss: 0.5579 - accuracy: 0.8563 - 2s/epoch - 2ms/step\n",
            "loss: 0.558\n",
            "accuracy: 0.856\n"
          ]
        }
      ],
      "source": [
        "results = model_8.evaluate(test_data, verbose=2)\n",
        "\n",
        "for name, value in zip(model_8.metrics_names, results): print(\"%s: %.3f\" % (name, value))"
      ]
    },
    {
      "cell_type": "markdown",
      "metadata": {
        "id": "8d5pdy2f_QD6"
      },
      "source": [
        "*Bias reguarlizer with L2*"
      ]
    },
    {
      "cell_type": "code",
      "execution_count": null,
      "metadata": {
        "id": "t1eeY60S_QD6",
        "colab": {
          "base_uri": "https://localhost:8080/"
        },
        "outputId": "cdc550a1-b711-493a-e031-659182d5ecad"
      },
      "outputs": [
        {
          "output_type": "stream",
          "name": "stdout",
          "text": [
            "Epoch 1/10\n",
            "1374/1374 [==============================] - 8s 5ms/step - loss: 1.6152 - accuracy: 0.5310 - val_loss: 0.7554 - val_accuracy: 0.7747\n",
            "Epoch 2/10\n",
            "1374/1374 [==============================] - 6s 5ms/step - loss: 0.6679 - accuracy: 0.8007 - val_loss: 0.6281 - val_accuracy: 0.8147\n",
            "Epoch 3/10\n",
            "1374/1374 [==============================] - 7s 5ms/step - loss: 0.5355 - accuracy: 0.8410 - val_loss: 0.5738 - val_accuracy: 0.8299\n",
            "Epoch 4/10\n",
            "1374/1374 [==============================] - 6s 5ms/step - loss: 0.4760 - accuracy: 0.8586 - val_loss: 0.5306 - val_accuracy: 0.8424\n",
            "Epoch 5/10\n",
            "1374/1374 [==============================] - 7s 5ms/step - loss: 0.4313 - accuracy: 0.8722 - val_loss: 0.5147 - val_accuracy: 0.8480\n",
            "Epoch 6/10\n",
            "1374/1374 [==============================] - 6s 5ms/step - loss: 0.3982 - accuracy: 0.8814 - val_loss: 0.4861 - val_accuracy: 0.8564\n",
            "Epoch 7/10\n",
            "1374/1374 [==============================] - 6s 5ms/step - loss: 0.3708 - accuracy: 0.8886 - val_loss: 0.4732 - val_accuracy: 0.8692\n",
            "Epoch 8/10\n",
            "1374/1374 [==============================] - 7s 5ms/step - loss: 0.3459 - accuracy: 0.8943 - val_loss: 0.4799 - val_accuracy: 0.8666\n",
            "Epoch 9/10\n",
            "1374/1374 [==============================] - 6s 5ms/step - loss: 0.3225 - accuracy: 0.9031 - val_loss: 0.4268 - val_accuracy: 0.8824\n",
            "Epoch 10/10\n",
            "1374/1374 [==============================] - 6s 5ms/step - loss: 0.3052 - accuracy: 0.9059 - val_loss: 0.4548 - val_accuracy: 0.8806\n"
          ]
        },
        {
          "output_type": "execute_result",
          "data": {
            "text/plain": [
              "<keras.src.callbacks.History at 0x7fb8ca38d300>"
            ]
          },
          "metadata": {},
          "execution_count": 58
        }
      ],
      "source": [
        "model_9 = create_model(len(trtc_str), reg_type='bias', penalty_type='L2')\n",
        "model_9.compile(optimizer='adam', loss=tf.keras.losses.SparseCategoricalCrossentropy(from_logits = True), metrics=['accuracy'])\n",
        "model_9.fit(train_ds, validation_data=val_ds, epochs=10)"
      ]
    },
    {
      "cell_type": "code",
      "execution_count": null,
      "metadata": {
        "id": "MYNU5rAS_QD6",
        "colab": {
          "base_uri": "https://localhost:8080/"
        },
        "outputId": "894e798c-96d3-4f66-d62d-283843ff1bb8"
      },
      "outputs": [
        {
          "output_type": "stream",
          "name": "stdout",
          "text": [
            "814/814 - 2s - loss: 0.5284 - accuracy: 0.8725 - 2s/epoch - 2ms/step\n",
            "loss: 0.528\n",
            "accuracy: 0.872\n"
          ]
        }
      ],
      "source": [
        "results = model_9.evaluate(test_data, verbose=2)\n",
        "\n",
        "for name, value in zip(model_9.metrics_names, results): print(\"%s: %.3f\" % (name, value))"
      ]
    },
    {
      "cell_type": "markdown",
      "metadata": {
        "id": "e-4RHKJu_QD6"
      },
      "source": [
        "*Bias reguarlizer with L1L2*"
      ]
    },
    {
      "cell_type": "code",
      "execution_count": null,
      "metadata": {
        "id": "IMlxOiwz_QD6",
        "colab": {
          "base_uri": "https://localhost:8080/"
        },
        "outputId": "d26be9d0-50ba-4519-ae2d-29ba120d4fe8"
      },
      "outputs": [
        {
          "output_type": "stream",
          "name": "stdout",
          "text": [
            "Epoch 1/10\n",
            "1374/1374 [==============================] - 8s 5ms/step - loss: 1.2653 - accuracy: 0.6620 - val_loss: 0.6287 - val_accuracy: 0.8159\n",
            "Epoch 2/10\n",
            "1374/1374 [==============================] - 6s 5ms/step - loss: 0.5857 - accuracy: 0.8305 - val_loss: 0.5780 - val_accuracy: 0.8269\n",
            "Epoch 3/10\n",
            "1374/1374 [==============================] - 6s 5ms/step - loss: 0.4813 - accuracy: 0.8591 - val_loss: 0.5105 - val_accuracy: 0.8519\n",
            "Epoch 4/10\n",
            "1374/1374 [==============================] - 6s 5ms/step - loss: 0.4326 - accuracy: 0.8724 - val_loss: 0.5122 - val_accuracy: 0.8520\n",
            "Epoch 5/10\n",
            "1374/1374 [==============================] - 7s 5ms/step - loss: 0.3918 - accuracy: 0.8821 - val_loss: 0.4676 - val_accuracy: 0.8647\n",
            "Epoch 6/10\n",
            "1374/1374 [==============================] - 7s 5ms/step - loss: 0.3583 - accuracy: 0.8924 - val_loss: 0.4615 - val_accuracy: 0.8678\n",
            "Epoch 7/10\n",
            "1374/1374 [==============================] - 7s 5ms/step - loss: 0.3322 - accuracy: 0.9001 - val_loss: 0.4753 - val_accuracy: 0.8682\n",
            "Epoch 8/10\n",
            "1374/1374 [==============================] - 6s 5ms/step - loss: 0.3020 - accuracy: 0.9079 - val_loss: 0.4511 - val_accuracy: 0.8796\n",
            "Epoch 9/10\n",
            "1374/1374 [==============================] - 6s 5ms/step - loss: 0.2802 - accuracy: 0.9133 - val_loss: 0.5069 - val_accuracy: 0.8776\n",
            "Epoch 10/10\n",
            "1374/1374 [==============================] - 7s 5ms/step - loss: 0.2591 - accuracy: 0.9202 - val_loss: 0.4823 - val_accuracy: 0.8764\n"
          ]
        },
        {
          "output_type": "execute_result",
          "data": {
            "text/plain": [
              "<keras.src.callbacks.History at 0x7fb8cb73a230>"
            ]
          },
          "metadata": {},
          "execution_count": 41
        }
      ],
      "source": [
        "model_10 = create_model(len(trtc_str), reg_type='bias', penalty_type='L1L2')\n",
        "model_10.compile(optimizer='adam', loss=tf.keras.losses.SparseCategoricalCrossentropy(from_logits = True), metrics=['accuracy'])\n",
        "model_10.fit(train_ds, validation_data=val_ds, epochs=10)"
      ]
    },
    {
      "cell_type": "code",
      "execution_count": null,
      "metadata": {
        "id": "yW656lIQ_QD7",
        "colab": {
          "base_uri": "https://localhost:8080/"
        },
        "outputId": "d0441d53-cabb-458d-fed2-6b5a5d97ec08"
      },
      "outputs": [
        {
          "output_type": "stream",
          "name": "stdout",
          "text": [
            "814/814 - 2s - loss: 0.5607 - accuracy: 0.8671 - 2s/epoch - 2ms/step\n",
            "loss: 0.561\n",
            "accuracy: 0.867\n"
          ]
        }
      ],
      "source": [
        "results = model_10.evaluate(test_data, verbose=2)\n",
        "\n",
        "for name, value in zip(model_10.metrics_names, results): print(\"%s: %.3f\" % (name, value))"
      ]
    },
    {
      "cell_type": "markdown",
      "metadata": {
        "id": "BhE13LzG_QD7"
      },
      "source": [
        "*Activity reguarlizer with L1L2*"
      ]
    },
    {
      "cell_type": "code",
      "execution_count": null,
      "metadata": {
        "id": "bhJNmbnY_QD7",
        "colab": {
          "base_uri": "https://localhost:8080/"
        },
        "outputId": "1753716b-6ebe-4c4c-8a42-36e71e720d3b"
      },
      "outputs": [
        {
          "output_type": "stream",
          "name": "stdout",
          "text": [
            "Epoch 1/10\n",
            "1374/1374 [==============================] - 8s 5ms/step - loss: 2.4934 - accuracy: 0.1859 - val_loss: 2.2348 - val_accuracy: 0.1904\n",
            "Epoch 2/10\n",
            "1374/1374 [==============================] - 7s 5ms/step - loss: 2.2383 - accuracy: 0.1884 - val_loss: 2.2341 - val_accuracy: 0.1904\n",
            "Epoch 3/10\n",
            "1374/1374 [==============================] - 7s 5ms/step - loss: 2.2382 - accuracy: 0.1884 - val_loss: 2.2341 - val_accuracy: 0.1904\n",
            "Epoch 4/10\n",
            "1374/1374 [==============================] - 7s 5ms/step - loss: 2.2382 - accuracy: 0.1884 - val_loss: 2.2342 - val_accuracy: 0.1904\n",
            "Epoch 5/10\n",
            "1374/1374 [==============================] - 7s 5ms/step - loss: 2.2382 - accuracy: 0.1884 - val_loss: 2.2342 - val_accuracy: 0.1904\n",
            "Epoch 6/10\n",
            "1374/1374 [==============================] - 7s 5ms/step - loss: 2.2382 - accuracy: 0.1884 - val_loss: 2.2341 - val_accuracy: 0.1904\n",
            "Epoch 7/10\n",
            "1374/1374 [==============================] - 7s 5ms/step - loss: 2.2382 - accuracy: 0.1884 - val_loss: 2.2341 - val_accuracy: 0.1904\n",
            "Epoch 8/10\n",
            "1374/1374 [==============================] - 7s 5ms/step - loss: 2.2382 - accuracy: 0.1884 - val_loss: 2.2343 - val_accuracy: 0.1904\n",
            "Epoch 9/10\n",
            "1374/1374 [==============================] - 7s 5ms/step - loss: 2.2383 - accuracy: 0.1884 - val_loss: 2.2341 - val_accuracy: 0.1904\n",
            "Epoch 10/10\n",
            "1374/1374 [==============================] - 7s 5ms/step - loss: 2.2382 - accuracy: 0.1884 - val_loss: 2.2340 - val_accuracy: 0.1904\n"
          ]
        },
        {
          "output_type": "execute_result",
          "data": {
            "text/plain": [
              "<keras.src.callbacks.History at 0x7fb8d45a2500>"
            ]
          },
          "metadata": {},
          "execution_count": 43
        }
      ],
      "source": [
        "model_11 = create_model(len(trtc_str), reg_type='activity', penalty_type='L1L2')\n",
        "model_11.compile(optimizer='adam', loss=tf.keras.losses.SparseCategoricalCrossentropy(from_logits = True), metrics=['accuracy'])\n",
        "model_11.fit(train_ds, validation_data=val_ds, epochs=10)"
      ]
    },
    {
      "cell_type": "code",
      "source": [
        "results = model_11.evaluate(test_data, verbose=2)\n",
        "\n",
        "for name, value in zip(model_11.metrics_names, results): print(\"%s: %.3f\" % (name, value))"
      ],
      "metadata": {
        "colab": {
          "base_uri": "https://localhost:8080/"
        },
        "id": "wuPiO0pOL0Ik",
        "outputId": "279e39a6-1472-4470-c50f-09c0b967bf0f"
      },
      "execution_count": null,
      "outputs": [
        {
          "output_type": "stream",
          "name": "stdout",
          "text": [
            "814/814 - 2s - loss: 2.2243 - accuracy: 0.1959 - 2s/epoch - 2ms/step\n",
            "loss: 2.224\n",
            "accuracy: 0.196\n"
          ]
        }
      ]
    },
    {
      "cell_type": "markdown",
      "metadata": {
        "id": "rijCCqEd_QD7"
      },
      "source": [
        "Try different optimization algorithms (such as Gradient Descent, Adam etc.)"
      ]
    },
    {
      "cell_type": "markdown",
      "metadata": {
        "id": "eOjMtnWw_QD7"
      },
      "source": [
        "*SDG*"
      ]
    },
    {
      "cell_type": "code",
      "source": [
        "model_12 = create_model(len(trtc_str))\n",
        "model_12.compile(optimizer='SGD', loss=tf.keras.losses.SparseCategoricalCrossentropy(from_logits = True), metrics=['accuracy'])\n",
        "model_12.fit(train_ds, validation_data=val_ds, epochs=10)"
      ],
      "metadata": {
        "colab": {
          "base_uri": "https://localhost:8080/"
        },
        "id": "Q6KVI-b3L1n3",
        "outputId": "b37da0b4-95a7-4d34-e3e9-0aa6a42d4b02"
      },
      "execution_count": null,
      "outputs": [
        {
          "output_type": "stream",
          "name": "stdout",
          "text": [
            "Epoch 1/10\n",
            "1374/1374 [==============================] - 7s 5ms/step - loss: 5.8373 - accuracy: 0.1833 - val_loss: 2.2339 - val_accuracy: 0.1904\n",
            "Epoch 2/10\n",
            "1374/1374 [==============================] - 6s 5ms/step - loss: 2.2384 - accuracy: 0.1884 - val_loss: 2.2349 - val_accuracy: 0.1904\n",
            "Epoch 3/10\n",
            "1374/1374 [==============================] - 6s 5ms/step - loss: 2.2385 - accuracy: 0.1884 - val_loss: 2.2342 - val_accuracy: 0.1904\n",
            "Epoch 4/10\n",
            "1374/1374 [==============================] - 6s 5ms/step - loss: 2.2385 - accuracy: 0.1884 - val_loss: 2.2342 - val_accuracy: 0.1904\n",
            "Epoch 5/10\n",
            "1374/1374 [==============================] - 7s 5ms/step - loss: 2.2385 - accuracy: 0.1884 - val_loss: 2.2340 - val_accuracy: 0.1904\n",
            "Epoch 6/10\n",
            "1374/1374 [==============================] - 6s 5ms/step - loss: 2.2385 - accuracy: 0.1884 - val_loss: 2.2341 - val_accuracy: 0.1904\n",
            "Epoch 7/10\n",
            "1374/1374 [==============================] - 6s 5ms/step - loss: 2.2385 - accuracy: 0.1884 - val_loss: 2.2340 - val_accuracy: 0.1904\n",
            "Epoch 8/10\n",
            "1374/1374 [==============================] - 6s 5ms/step - loss: 2.2384 - accuracy: 0.1884 - val_loss: 2.2344 - val_accuracy: 0.1904\n",
            "Epoch 9/10\n",
            "1374/1374 [==============================] - 6s 5ms/step - loss: 2.2384 - accuracy: 0.1884 - val_loss: 2.2343 - val_accuracy: 0.1904\n",
            "Epoch 10/10\n",
            "1374/1374 [==============================] - 6s 5ms/step - loss: 2.2384 - accuracy: 0.1884 - val_loss: 2.2345 - val_accuracy: 0.1904\n"
          ]
        },
        {
          "output_type": "execute_result",
          "data": {
            "text/plain": [
              "<keras.src.callbacks.History at 0x7fb8cb8162c0>"
            ]
          },
          "metadata": {},
          "execution_count": 67
        }
      ]
    },
    {
      "cell_type": "code",
      "execution_count": null,
      "metadata": {
        "id": "_cIXQYYD_QD7",
        "colab": {
          "base_uri": "https://localhost:8080/"
        },
        "outputId": "518ec424-da8a-4056-a014-43da4c26e782"
      },
      "outputs": [
        {
          "output_type": "stream",
          "name": "stdout",
          "text": [
            "814/814 - 2s - loss: 2.2249 - accuracy: 0.1959 - 2s/epoch - 2ms/step\n",
            "loss: 2.225\n",
            "accuracy: 0.196\n"
          ]
        }
      ],
      "source": [
        "results = model_12.evaluate(test_data, verbose=2)\n",
        "\n",
        "for name, value in zip(model_12.metrics_names, results): print(\"%s: %.3f\" % (name, value))"
      ]
    },
    {
      "cell_type": "markdown",
      "metadata": {
        "id": "e92oXEg7_QD7"
      },
      "source": [
        "*Adamax*"
      ]
    },
    {
      "cell_type": "code",
      "source": [
        "model_13 = create_model(len(trtc_str), reg_type='activity', penalty_type='L1L2')\n",
        "model_13.compile(optimizer='adamax', loss=tf.keras.losses.SparseCategoricalCrossentropy(from_logits = True), metrics=['accuracy'])\n",
        "model_13.fit(train_ds, validation_data=val_ds, epochs=10)"
      ],
      "metadata": {
        "colab": {
          "base_uri": "https://localhost:8080/"
        },
        "id": "2P5WOT00L3Yo",
        "outputId": "f56d6743-3bf6-49ac-b0b1-ac8b3209a637"
      },
      "execution_count": null,
      "outputs": [
        {
          "output_type": "stream",
          "name": "stdout",
          "text": [
            "Epoch 1/10\n",
            "1374/1374 [==============================] - 8s 5ms/step - loss: 2.7161 - accuracy: 0.1861 - val_loss: 2.2532 - val_accuracy: 0.1904\n",
            "Epoch 2/10\n",
            "1374/1374 [==============================] - 7s 5ms/step - loss: 2.2460 - accuracy: 0.1884 - val_loss: 2.2377 - val_accuracy: 0.1904\n",
            "Epoch 3/10\n",
            "1374/1374 [==============================] - 7s 5ms/step - loss: 2.2394 - accuracy: 0.1884 - val_loss: 2.2350 - val_accuracy: 0.1905\n",
            "Epoch 4/10\n",
            "1374/1374 [==============================] - 7s 5ms/step - loss: 2.2383 - accuracy: 0.1884 - val_loss: 2.2344 - val_accuracy: 0.1904\n",
            "Epoch 5/10\n",
            "1374/1374 [==============================] - 7s 5ms/step - loss: 2.2382 - accuracy: 0.1884 - val_loss: 2.2343 - val_accuracy: 0.1904\n",
            "Epoch 6/10\n",
            "1374/1374 [==============================] - 7s 5ms/step - loss: 2.2381 - accuracy: 0.1884 - val_loss: 2.2344 - val_accuracy: 0.1904\n",
            "Epoch 7/10\n",
            "1374/1374 [==============================] - 7s 5ms/step - loss: 2.2381 - accuracy: 0.1884 - val_loss: 2.2343 - val_accuracy: 0.1904\n",
            "Epoch 8/10\n",
            "1374/1374 [==============================] - 7s 5ms/step - loss: 2.2381 - accuracy: 0.1884 - val_loss: 2.2342 - val_accuracy: 0.1904\n",
            "Epoch 9/10\n",
            "1374/1374 [==============================] - 7s 5ms/step - loss: 2.2381 - accuracy: 0.1884 - val_loss: 2.2341 - val_accuracy: 0.1904\n",
            "Epoch 10/10\n",
            "1374/1374 [==============================] - 7s 5ms/step - loss: 2.2381 - accuracy: 0.1884 - val_loss: 2.2341 - val_accuracy: 0.1904\n"
          ]
        },
        {
          "output_type": "execute_result",
          "data": {
            "text/plain": [
              "<keras.src.callbacks.History at 0x7fb8cb679090>"
            ]
          },
          "metadata": {},
          "execution_count": 68
        }
      ]
    },
    {
      "cell_type": "code",
      "source": [
        "results = model_13.evaluate(test_data, verbose=2)\n",
        "\n",
        "for name, value in zip(model_13.metrics_names, results): print(\"%s: %.3f\" % (name, value))"
      ],
      "metadata": {
        "colab": {
          "base_uri": "https://localhost:8080/"
        },
        "id": "nUVEGfg8L4q7",
        "outputId": "29a0eff2-d8a5-46c6-fda0-3af94bfe0ee1"
      },
      "execution_count": null,
      "outputs": [
        {
          "output_type": "stream",
          "name": "stdout",
          "text": [
            "814/814 - 2s - loss: 2.2245 - accuracy: 0.1958 - 2s/epoch - 2ms/step\n",
            "loss: 2.225\n",
            "accuracy: 0.196\n"
          ]
        }
      ]
    },
    {
      "cell_type": "markdown",
      "metadata": {
        "id": "34l2_r22_QD7"
      },
      "source": [
        "*Adadelta*"
      ]
    },
    {
      "cell_type": "code",
      "execution_count": null,
      "metadata": {
        "id": "9ypre-pc_QD7",
        "colab": {
          "base_uri": "https://localhost:8080/"
        },
        "outputId": "5a8adea1-64c7-4e20-ffd8-14b56f67781f"
      },
      "outputs": [
        {
          "output_type": "stream",
          "name": "stdout",
          "text": [
            "Epoch 1/10\n",
            "1374/1374 [==============================] - 8s 5ms/step - loss: 40.4546 - accuracy: 0.1036 - val_loss: 3.2139 - val_accuracy: 0.1202\n",
            "Epoch 2/10\n",
            "1374/1374 [==============================] - 7s 5ms/step - loss: 2.5700 - accuracy: 0.1430 - val_loss: 2.3821 - val_accuracy: 0.1718\n",
            "Epoch 3/10\n",
            "1374/1374 [==============================] - 7s 5ms/step - loss: 2.3529 - accuracy: 0.1750 - val_loss: 2.3352 - val_accuracy: 0.1806\n",
            "Epoch 4/10\n",
            "1374/1374 [==============================] - 7s 5ms/step - loss: 2.3275 - accuracy: 0.1801 - val_loss: 2.3215 - val_accuracy: 0.1838\n",
            "Epoch 5/10\n",
            "1374/1374 [==============================] - 7s 5ms/step - loss: 2.3183 - accuracy: 0.1830 - val_loss: 2.3153 - val_accuracy: 0.1856\n",
            "Epoch 6/10\n",
            "1374/1374 [==============================] - 7s 5ms/step - loss: 2.3135 - accuracy: 0.1840 - val_loss: 2.3117 - val_accuracy: 0.1865\n",
            "Epoch 7/10\n",
            "1374/1374 [==============================] - 7s 5ms/step - loss: 2.3104 - accuracy: 0.1852 - val_loss: 2.3093 - val_accuracy: 0.1871\n",
            "Epoch 8/10\n",
            "1374/1374 [==============================] - 7s 5ms/step - loss: 2.3084 - accuracy: 0.1860 - val_loss: 2.3076 - val_accuracy: 0.1877\n",
            "Epoch 9/10\n",
            "1374/1374 [==============================] - 7s 5ms/step - loss: 2.3068 - accuracy: 0.1861 - val_loss: 2.3063 - val_accuracy: 0.1879\n",
            "Epoch 10/10\n",
            "1374/1374 [==============================] - 7s 5ms/step - loss: 2.3055 - accuracy: 0.1862 - val_loss: 2.3052 - val_accuracy: 0.1885\n"
          ]
        },
        {
          "output_type": "execute_result",
          "data": {
            "text/plain": [
              "<keras.src.callbacks.History at 0x7fb8cbec7ee0>"
            ]
          },
          "metadata": {},
          "execution_count": 62
        }
      ],
      "source": [
        "model_14 = create_model(len(trtc_str), reg_type='activity', penalty_type='L1L2')\n",
        "model_14.compile(optimizer='adadelta', loss=tf.keras.losses.SparseCategoricalCrossentropy(from_logits = True), metrics=['accuracy'])\n",
        "model_14.fit(train_ds, validation_data=val_ds, epochs=10)"
      ]
    },
    {
      "cell_type": "code",
      "source": [
        "results = model_14.evaluate(test_data, verbose=2)\n",
        "\n",
        "for name, value in zip(model_14.metrics_names, results): print(\"%s: %.3f\" % (name, value))"
      ],
      "metadata": {
        "colab": {
          "base_uri": "https://localhost:8080/"
        },
        "id": "GovfCK27L_Y5",
        "outputId": "ddf5fd4e-07a5-46bb-bfaf-afba2626bf0e"
      },
      "execution_count": null,
      "outputs": [
        {
          "output_type": "stream",
          "name": "stdout",
          "text": [
            "814/814 - 2s - loss: 2.3241 - accuracy: 0.1880 - 2s/epoch - 2ms/step\n",
            "loss: 2.324\n",
            "accuracy: 0.188\n"
          ]
        }
      ]
    },
    {
      "cell_type": "markdown",
      "metadata": {
        "id": "leoeHo2n_QD8"
      },
      "source": [
        "Create a graph of f1 score vs epochs for training and validation set"
      ]
    },
    {
      "cell_type": "code",
      "source": [
        "precision_metric = tf.metrics.Precision()\n",
        "recall_metric = tf.metrics.Recall()\n",
        "\n",
        "def precision(y_true, y_pred):\n",
        "    pred = tf.argmax(y_pred, 1)\n",
        "    precision_metric.update_state(y_true, pred)\n",
        "    return precision_metric.result()\n",
        "\n",
        "def recall(y_true, y_pred):\n",
        "    pred = tf.argmax(y_pred, 1)\n",
        "    recall_metric.update_state(y_true, pred)\n",
        "    return recall_metric.result()"
      ],
      "metadata": {
        "id": "-oc209-vMAq7"
      },
      "execution_count": null,
      "outputs": []
    },
    {
      "cell_type": "code",
      "source": [
        "model_15 = create_model(len(trtc_str))\n",
        "model_15.compile(optimizer='adam', loss=tf.keras.losses.SparseCategoricalCrossentropy(from_logits=False), metrics=[precision, recall])\n",
        "history = model_15.fit(train_ds, validation_data=val_ds, epochs=10)\n",
        "results = model_15.evaluate(test_ds, verbose=2)\n",
        "for name, value in zip(model_15.metrics_names, results): print(\"%s: %.3f\" % (name, value))"
      ],
      "metadata": {
        "colab": {
          "base_uri": "https://localhost:8080/"
        },
        "id": "RV58B1T_MCHY",
        "outputId": "386742d4-2cac-4715-dc18-059b334daf9e"
      },
      "execution_count": null,
      "outputs": [
        {
          "output_type": "stream",
          "name": "stdout",
          "text": [
            "Epoch 1/10\n",
            "1374/1374 [==============================] - 9s 5ms/step - loss: 8.1099 - precision: 0.9333 - recall: 0.9994 - val_loss: 8.0735 - val_precision: 0.9325 - val_recall: 0.9999\n",
            "Epoch 2/10\n",
            "1374/1374 [==============================] - 7s 5ms/step - loss: 8.1113 - precision: 0.9327 - recall: 1.0000 - val_loss: 8.0735 - val_precision: 0.9326 - val_recall: 1.0000\n",
            "Epoch 3/10\n",
            "1374/1374 [==============================] - 7s 5ms/step - loss: 8.1113 - precision: 0.9325 - recall: 1.0000 - val_loss: 8.0735 - val_precision: 0.9326 - val_recall: 1.0000\n",
            "Epoch 4/10\n",
            "1374/1374 [==============================] - 7s 5ms/step - loss: 8.1113 - precision: 0.9326 - recall: 1.0000 - val_loss: 8.0735 - val_precision: 0.9324 - val_recall: 1.0000\n",
            "Epoch 5/10\n",
            "1374/1374 [==============================] - 7s 5ms/step - loss: 8.1113 - precision: 0.9325 - recall: 1.0000 - val_loss: 8.0735 - val_precision: 0.9325 - val_recall: 1.0000\n",
            "Epoch 6/10\n",
            "1374/1374 [==============================] - 7s 5ms/step - loss: 8.1113 - precision: 0.9325 - recall: 1.0000 - val_loss: 8.0734 - val_precision: 0.9325 - val_recall: 1.0000\n",
            "Epoch 7/10\n",
            "1374/1374 [==============================] - 7s 5ms/step - loss: 8.1113 - precision: 0.9325 - recall: 1.0000 - val_loss: 8.0735 - val_precision: 0.9325 - val_recall: 1.0000\n",
            "Epoch 8/10\n",
            "1374/1374 [==============================] - 7s 5ms/step - loss: 8.1113 - precision: 0.9325 - recall: 1.0000 - val_loss: 8.0735 - val_precision: 0.9325 - val_recall: 1.0000\n",
            "Epoch 9/10\n",
            "1374/1374 [==============================] - 7s 5ms/step - loss: 8.1113 - precision: 0.9325 - recall: 1.0000 - val_loss: 8.0734 - val_precision: 0.9325 - val_recall: 1.0000\n",
            "Epoch 10/10\n",
            "1374/1374 [==============================] - 7s 5ms/step - loss: 8.1113 - precision: 0.9325 - recall: 1.0000 - val_loss: 8.0735 - val_precision: 0.9325 - val_recall: 1.0000\n",
            "814/814 - 2s - loss: 8.1375 - precision: 0.9325 - recall: 1.0000 - 2s/epoch - 2ms/step\n",
            "loss: 8.138\n",
            "precision: 0.932\n",
            "recall: 1.000\n"
          ]
        }
      ]
    },
    {
      "cell_type": "code",
      "source": [
        "print(history.history['precision'])\n",
        "print(history.history['recall'])"
      ],
      "metadata": {
        "colab": {
          "base_uri": "https://localhost:8080/"
        },
        "id": "tUiQVle3MDVS",
        "outputId": "16509130-c800-4370-e9cb-1e7ffe2913a2"
      },
      "execution_count": null,
      "outputs": [
        {
          "output_type": "stream",
          "name": "stdout",
          "text": [
            "[0.9333062767982483, 0.932655930519104, 0.932496964931488, 0.9325661659240723, 0.932471752166748, 0.9325038194656372, 0.9324678182601929, 0.9324917197227478, 0.9325070381164551, 0.9325099587440491]\n",
            "[0.9994235634803772, 0.9999642968177795, 0.9999907612800598, 0.9999971389770508, 0.9999976754188538, 0.9999977946281433, 0.9999992847442627, 0.9999992847442627, 0.9999994039535522, 0.9999994039535522]\n"
          ]
        }
      ]
    },
    {
      "cell_type": "code",
      "execution_count": null,
      "metadata": {
        "id": "0fRW--ge_QD8",
        "colab": {
          "base_uri": "https://localhost:8080/",
          "height": 717
        },
        "outputId": "d05b2fc6-fbc2-4ac9-92bc-dc91ad80faad"
      },
      "outputs": [
        {
          "output_type": "execute_result",
          "data": {
            "text/plain": [
              "Text(0.5, 1.0, 'Training and Validation F1 Score')"
            ]
          },
          "metadata": {},
          "execution_count": 63
        },
        {
          "output_type": "display_data",
          "data": {
            "text/plain": [
              "<Figure size 800x800 with 1 Axes>"
            ],
            "image/png": "[encoded data removed]"
          },
          "metadata": {}
        }
      ],
      "source": [
        "train_precision = np.array(history.history['precision'])\n",
        "val_precision = np.array(history.history['val_precision'])\n",
        "\n",
        "train_recall = np.array(history.history['recall'])\n",
        "val_recall = np.array(history.history['val_recall'])\n",
        "\n",
        "train_f1_score = 2 * (train_precision * train_recall) / (train_precision + train_recall)\n",
        "val_f1_score = 2 * (val_precision * val_recall) / (val_precision + val_recall)\n",
        "\n",
        "epochs_range = range(10)\n",
        "\n",
        "plt.figure(figsize=(8, 8))\n",
        "plt.subplot(1, 2, 1)\n",
        "plt.plot(epochs_range, train_f1_score, label='Training F1 Score')\n",
        "plt.plot(epochs_range, val_f1_score, label='Validation F1 Score')\n",
        "plt.legend(loc='upper right')\n",
        "plt.title('Training and Validation F1 Score')"
      ]
    },
    {
      "cell_type": "markdown",
      "metadata": {
        "id": "ppDqEg-T_QD8"
      },
      "source": [
        "Calculate the number of trainable parameters in your final model"
      ]
    },
    {
      "cell_type": "code",
      "source": [
        "model_15.summary()"
      ],
      "metadata": {
        "id": "hF647nSNDm5r",
        "colab": {
          "base_uri": "https://localhost:8080/"
        },
        "outputId": "38b826f0-a8e6-4aa7-b45b-f81bd8398782"
      },
      "execution_count": null,
      "outputs": [
        {
          "output_type": "stream",
          "name": "stdout",
          "text": [
            "Model: \"model_15\"\n",
            "__________________________________________________________________________________________________\n",
            " Layer (type)                Output Shape                 Param #   Connected to                  \n",
            "==================================================================================================\n",
            " input_16 (InputLayer)       [(None, 32, 32, 3)]          0         []                            \n",
            "                                                                                                  \n",
            " conv2d_45 (Conv2D)          (None, 32, 32, 16)           448       ['input_16[0][0]']            \n",
            "                                                                                                  \n",
            " max_pooling2d_15 (MaxPooli  multiple                     0         ['conv2d_45[0][0]',           \n",
            " ng2D)                                                               'conv2d_46[0][0]',           \n",
            "                                                                     'conv2d_47[0][0]']           \n",
            "                                                                                                  \n",
            " conv2d_46 (Conv2D)          (None, 16, 16, 32)           4640      ['max_pooling2d_15[0][0]']    \n",
            "                                                                                                  \n",
            " conv2d_47 (Conv2D)          (None, 8, 8, 64)             18496     ['max_pooling2d_15[1][0]']    \n",
            "                                                                                                  \n",
            " flatten_15 (Flatten)        (None, 1024)                 0         ['max_pooling2d_15[2][0]']    \n",
            "                                                                                                  \n",
            " dense_30 (Dense)            (None, 128)                  131200    ['flatten_15[0][0]']          \n",
            "                                                                                                  \n",
            " dense_31 (Dense)            (None, 10)                   1290      ['dense_30[0][0]']            \n",
            "                                                                                                  \n",
            "==================================================================================================\n",
            "Total params: 156074 (609.66 KB)\n",
            "Trainable params: 156074 (609.66 KB)\n",
            "Non-trainable params: 0 (0.00 Byte)\n",
            "__________________________________________________________________________________________________\n"
          ]
        }
      ]
    }
  ],
  "metadata": {
    "kernelspec": {
      "display_name": "Python 3",
      "name": "python3"
    },
    "language_info": {
      "codemirror_mode": {
        "name": "ipython",
        "version": 3
      },
      "file_extension": ".py",
      "mimetype": "text/x-python",
      "name": "python",
      "nbconvert_exporter": "python",
      "pygments_lexer": "ipython3",
      "version": "3.11.5"
    },
    "orig_nbformat": 4,
    "colab": {
      "provenance": [],
      "gpuType": "T4",
      "machine_shape": "hm"
    },
    "accelerator": "GPU",
    "widgets": {
      "application/vnd.jupyter.widget-state+json": {
        "172db7428c494e39af04cdf6d9ccc943": {
          "model_module": "@jupyter-widgets/controls",
          "model_name": "HBoxModel",
          "model_module_version": "1.5.0",
          "state": {
            "_dom_classes": [],
            "_model_module": "@jupyter-widgets/controls",
            "_model_module_version": "1.5.0",
            "_model_name": "HBoxModel",
            "_view_count": null,
            "_view_module": "@jupyter-widgets/controls",
            "_view_module_version": "1.5.0",
            "_view_name": "HBoxView",
            "box_style": "",
            "children": [
              "IPY_MODEL_3b216ddbb92e4e3784e4beff8062b0f6",
              "IPY_MODEL_ee9c655ef83346328aea965ec314d45c",
              "IPY_MODEL_226f6c0091dc435bb21b2a8c438cd897"
            ],
            "layout": "IPY_MODEL_417eacf62d214e1786f23aa343415778"
          }
        },
        "3b216ddbb92e4e3784e4beff8062b0f6": {
          "model_module": "@jupyter-widgets/controls",
          "model_name": "HTMLModel",
          "model_module_version": "1.5.0",
          "state": {
            "_dom_classes": [],
            "_model_module": "@jupyter-widgets/controls",
            "_model_module_version": "1.5.0",
            "_model_name": "HTMLModel",
            "_view_count": null,
            "_view_module": "@jupyter-widgets/controls",
            "_view_module_version": "1.5.0",
            "_view_name": "HTMLView",
            "description": "",
            "description_tooltip": null,
            "layout": "IPY_MODEL_4811171915204eb48bafe768d5a8ac90",
            "placeholder": "​",
            "style": "IPY_MODEL_ff7faa33dee24f62989986a359d67843",
            "value": "Dl Completed...: 100%"
          }
        },
        "ee9c655ef83346328aea965ec314d45c": {
          "model_module": "@jupyter-widgets/controls",
          "model_name": "FloatProgressModel",
          "model_module_version": "1.5.0",
          "state": {
            "_dom_classes": [],
            "_model_module": "@jupyter-widgets/controls",
            "_model_module_version": "1.5.0",
            "_model_name": "FloatProgressModel",
            "_view_count": null,
            "_view_module": "@jupyter-widgets/controls",
            "_view_module_version": "1.5.0",
            "_view_name": "ProgressView",
            "bar_style": "success",
            "description": "",
            "description_tooltip": null,
            "layout": "IPY_MODEL_b041a939ade845babe5bc6e4f81b641c",
            "max": 1,
            "min": 0,
            "orientation": "horizontal",
            "style": "IPY_MODEL_433328e2b6604e288575656c06de2fee",
            "value": 1
          }
        },
        "226f6c0091dc435bb21b2a8c438cd897": {
          "model_module": "@jupyter-widgets/controls",
          "model_name": "HTMLModel",
          "model_module_version": "1.5.0",
          "state": {
            "_dom_classes": [],
            "_model_module": "@jupyter-widgets/controls",
            "_model_module_version": "1.5.0",
            "_model_name": "HTMLModel",
            "_view_count": null,
            "_view_module": "@jupyter-widgets/controls",
            "_view_module_version": "1.5.0",
            "_view_name": "HTMLView",
            "description": "",
            "description_tooltip": null,
            "layout": "IPY_MODEL_69abee159621400b9d1d7efa6da020da",
            "placeholder": "​",
            "style": "IPY_MODEL_5ecfac30d09247e5b3e89da3b358dae9",
            "value": " 3/3 [01:30&lt;00:00, 38.33s/ url]"
          }
        },
        "417eacf62d214e1786f23aa343415778": {
          "model_module": "@jupyter-widgets/base",
          "model_name": "LayoutModel",
          "model_module_version": "1.2.0",
          "state": {
            "_model_module": "@jupyter-widgets/base",
            "_model_module_version": "1.2.0",
            "_model_name": "LayoutModel",
            "_view_count": null,
            "_view_module": "@jupyter-widgets/base",
            "_view_module_version": "1.2.0",
            "_view_name": "LayoutView",
            "align_content": null,
            "align_items": null,
            "align_self": null,
            "border": null,
            "bottom": null,
            "display": null,
            "flex": null,
            "flex_flow": null,
            "grid_area": null,
            "grid_auto_columns": null,
            "grid_auto_flow": null,
            "grid_auto_rows": null,
            "grid_column": null,
            "grid_gap": null,
            "grid_row": null,
            "grid_template_areas": null,
            "grid_template_columns": null,
            "grid_template_rows": null,
            "height": null,
            "justify_content": null,
            "justify_items": null,
            "left": null,
            "margin": null,
            "max_height": null,
            "max_width": null,
            "min_height": null,
            "min_width": null,
            "object_fit": null,
            "object_position": null,
            "order": null,
            "overflow": null,
            "overflow_x": null,
            "overflow_y": null,
            "padding": null,
            "right": null,
            "top": null,
            "visibility": null,
            "width": null
          }
        },
        "4811171915204eb48bafe768d5a8ac90": {
          "model_module": "@jupyter-widgets/base",
          "model_name": "LayoutModel",
          "model_module_version": "1.2.0",
          "state": {
            "_model_module": "@jupyter-widgets/base",
            "_model_module_version": "1.2.0",
            "_model_name": "LayoutModel",
            "_view_count": null,
            "_view_module": "@jupyter-widgets/base",
            "_view_module_version": "1.2.0",
            "_view_name": "LayoutView",
            "align_content": null,
            "align_items": null,
            "align_self": null,
            "border": null,
            "bottom": null,
            "display": null,
            "flex": null,
            "flex_flow": null,
            "grid_area": null,
            "grid_auto_columns": null,
            "grid_auto_flow": null,
            "grid_auto_rows": null,
            "grid_column": null,
            "grid_gap": null,
            "grid_row": null,
            "grid_template_areas": null,
            "grid_template_columns": null,
            "grid_template_rows": null,
            "height": null,
            "justify_content": null,
            "justify_items": null,
            "left": null,
            "margin": null,
            "max_height": null,
            "max_width": null,
            "min_height": null,
            "min_width": null,
            "object_fit": null,
            "object_position": null,
            "order": null,
            "overflow": null,
            "overflow_x": null,
            "overflow_y": null,
            "padding": null,
            "right": null,
            "top": null,
            "visibility": null,
            "width": null
          }
        },
        "ff7faa33dee24f62989986a359d67843": {
          "model_module": "@jupyter-widgets/controls",
          "model_name": "DescriptionStyleModel",
          "model_module_version": "1.5.0",
          "state": {
            "_model_module": "@jupyter-widgets/controls",
            "_model_module_version": "1.5.0",
            "_model_name": "DescriptionStyleModel",
            "_view_count": null,
            "_view_module": "@jupyter-widgets/base",
            "_view_module_version": "1.2.0",
            "_view_name": "StyleView",
            "description_width": ""
          }
        },
        "b041a939ade845babe5bc6e4f81b641c": {
          "model_module": "@jupyter-widgets/base",
          "model_name": "LayoutModel",
          "model_module_version": "1.2.0",
          "state": {
            "_model_module": "@jupyter-widgets/base",
            "_model_module_version": "1.2.0",
            "_model_name": "LayoutModel",
            "_view_count": null,
            "_view_module": "@jupyter-widgets/base",
            "_view_module_version": "1.2.0",
            "_view_name": "LayoutView",
            "align_content": null,
            "align_items": null,
            "align_self": null,
            "border": null,
            "bottom": null,
            "display": null,
            "flex": null,
            "flex_flow": null,
            "grid_area": null,
            "grid_auto_columns": null,
            "grid_auto_flow": null,
            "grid_auto_rows": null,
            "grid_column": null,
            "grid_gap": null,
            "grid_row": null,
            "grid_template_areas": null,
            "grid_template_columns": null,
            "grid_template_rows": null,
            "height": null,
            "justify_content": null,
            "justify_items": null,
            "left": null,
            "margin": null,
            "max_height": null,
            "max_width": null,
            "min_height": null,
            "min_width": null,
            "object_fit": null,
            "object_position": null,
            "order": null,
            "overflow": null,
            "overflow_x": null,
            "overflow_y": null,
            "padding": null,
            "right": null,
            "top": null,
            "visibility": null,
            "width": "20px"
          }
        },
        "433328e2b6604e288575656c06de2fee": {
          "model_module": "@jupyter-widgets/controls",
          "model_name": "ProgressStyleModel",
          "model_module_version": "1.5.0",
          "state": {
            "_model_module": "@jupyter-widgets/controls",
            "_model_module_version": "1.5.0",
            "_model_name": "ProgressStyleModel",
            "_view_count": null,
            "_view_module": "@jupyter-widgets/base",
            "_view_module_version": "1.2.0",
            "_view_name": "StyleView",
            "bar_color": null,
            "description_width": ""
          }
        },
        "69abee159621400b9d1d7efa6da020da": {
          "model_module": "@jupyter-widgets/base",
          "model_name": "LayoutModel",
          "model_module_version": "1.2.0",
          "state": {
            "_model_module": "@jupyter-widgets/base",
            "_model_module_version": "1.2.0",
            "_model_name": "LayoutModel",
            "_view_count": null,
            "_view_module": "@jupyter-widgets/base",
            "_view_module_version": "1.2.0",
            "_view_name": "LayoutView",
            "align_content": null,
            "align_items": null,
            "align_self": null,
            "border": null,
            "bottom": null,
            "display": null,
            "flex": null,
            "flex_flow": null,
            "grid_area": null,
            "grid_auto_columns": null,
            "grid_auto_flow": null,
            "grid_auto_rows": null,
            "grid_column": null,
            "grid_gap": null,
            "grid_row": null,
            "grid_template_areas": null,
            "grid_template_columns": null,
            "grid_template_rows": null,
            "height": null,
            "justify_content": null,
            "justify_items": null,
            "left": null,
            "margin": null,
            "max_height": null,
            "max_width": null,
            "min_height": null,
            "min_width": null,
            "object_fit": null,
            "object_position": null,
            "order": null,
            "overflow": null,
            "overflow_x": null,
            "overflow_y": null,
            "padding": null,
            "right": null,
            "top": null,
            "visibility": null,
            "width": null
          }
        },
        "5ecfac30d09247e5b3e89da3b358dae9": {
          "model_module": "@jupyter-widgets/controls",
          "model_name": "DescriptionStyleModel",
          "model_module_version": "1.5.0",
          "state": {
            "_model_module": "@jupyter-widgets/controls",
            "_model_module_version": "1.5.0",
            "_model_name": "DescriptionStyleModel",
            "_view_count": null,
            "_view_module": "@jupyter-widgets/base",
            "_view_module_version": "1.2.0",
            "_view_name": "StyleView",
            "description_width": ""
          }
        },
        "f46494b232444232af719580295ba0d9": {
          "model_module": "@jupyter-widgets/controls",
          "model_name": "HBoxModel",
          "model_module_version": "1.5.0",
          "state": {
            "_dom_classes": [],
            "_model_module": "@jupyter-widgets/controls",
            "_model_module_version": "1.5.0",
            "_model_name": "HBoxModel",
            "_view_count": null,
            "_view_module": "@jupyter-widgets/controls",
            "_view_module_version": "1.5.0",
            "_view_name": "HBoxView",
            "box_style": "",
            "children": [
              "IPY_MODEL_2c50e107230d4f61a01d69cd34fe5f2e",
              "IPY_MODEL_28aff8c335f84a95ab97e1864c86fb27",
              "IPY_MODEL_8c6e62387dfa48f2b8f9116aebaf6a8d"
            ],
            "layout": "IPY_MODEL_621b76148d954aa591dbddbb37d44afd"
          }
        },
        "2c50e107230d4f61a01d69cd34fe5f2e": {
          "model_module": "@jupyter-widgets/controls",
          "model_name": "HTMLModel",
          "model_module_version": "1.5.0",
          "state": {
            "_dom_classes": [],
            "_model_module": "@jupyter-widgets/controls",
            "_model_module_version": "1.5.0",
            "_model_name": "HTMLModel",
            "_view_count": null,
            "_view_module": "@jupyter-widgets/controls",
            "_view_module_version": "1.5.0",
            "_view_name": "HTMLView",
            "description": "",
            "description_tooltip": null,
            "layout": "IPY_MODEL_3ea20fbfa42f46f9affced2383eb7738",
            "placeholder": "​",
            "style": "IPY_MODEL_d1c486d57ef14af78136fc82ac0ad739",
            "value": "Dl Size...: 100%"
          }
        },
        "28aff8c335f84a95ab97e1864c86fb27": {
          "model_module": "@jupyter-widgets/controls",
          "model_name": "FloatProgressModel",
          "model_module_version": "1.5.0",
          "state": {
            "_dom_classes": [],
            "_model_module": "@jupyter-widgets/controls",
            "_model_module_version": "1.5.0",
            "_model_name": "FloatProgressModel",
            "_view_count": null,
            "_view_module": "@jupyter-widgets/controls",
            "_view_module_version": "1.5.0",
            "_view_name": "ProgressView",
            "bar_style": "success",
            "description": "",
            "description_tooltip": null,
            "layout": "IPY_MODEL_a546cb9036464abf93e44dabc1a0d038",
            "max": 1,
            "min": 0,
            "orientation": "horizontal",
            "style": "IPY_MODEL_307138d574c14a3bbc497d39f265ac8c",
            "value": 1
          }
        },
        "8c6e62387dfa48f2b8f9116aebaf6a8d": {
          "model_module": "@jupyter-widgets/controls",
          "model_name": "HTMLModel",
          "model_module_version": "1.5.0",
          "state": {
            "_dom_classes": [],
            "_model_module": "@jupyter-widgets/controls",
            "_model_module_version": "1.5.0",
            "_model_name": "HTMLModel",
            "_view_count": null,
            "_view_module": "@jupyter-widgets/controls",
            "_view_module_version": "1.5.0",
            "_view_name": "HTMLView",
            "description": "",
            "description_tooltip": null,
            "layout": "IPY_MODEL_f2b02d01ab21448fa584a023720c88cc",
            "placeholder": "​",
            "style": "IPY_MODEL_ae2768498118499f8a9f1237845e04d9",
            "value": " 1501/1501 [01:30&lt;00:00, 17.24 MiB/s]"
          }
        },
        "621b76148d954aa591dbddbb37d44afd": {
          "model_module": "@jupyter-widgets/base",
          "model_name": "LayoutModel",
          "model_module_version": "1.2.0",
          "state": {
            "_model_module": "@jupyter-widgets/base",
            "_model_module_version": "1.2.0",
            "_model_name": "LayoutModel",
            "_view_count": null,
            "_view_module": "@jupyter-widgets/base",
            "_view_module_version": "1.2.0",
            "_view_name": "LayoutView",
            "align_content": null,
            "align_items": null,
            "align_self": null,
            "border": null,
            "bottom": null,
            "display": null,
            "flex": null,
            "flex_flow": null,
            "grid_area": null,
            "grid_auto_columns": null,
            "grid_auto_flow": null,
            "grid_auto_rows": null,
            "grid_column": null,
            "grid_gap": null,
            "grid_row": null,
            "grid_template_areas": null,
            "grid_template_columns": null,
            "grid_template_rows": null,
            "height": null,
            "justify_content": null,
            "justify_items": null,
            "left": null,
            "margin": null,
            "max_height": null,
            "max_width": null,
            "min_height": null,
            "min_width": null,
            "object_fit": null,
            "object_position": null,
            "order": null,
            "overflow": null,
            "overflow_x": null,
            "overflow_y": null,
            "padding": null,
            "right": null,
            "top": null,
            "visibility": null,
            "width": null
          }
        },
        "3ea20fbfa42f46f9affced2383eb7738": {
          "model_module": "@jupyter-widgets/base",
          "model_name": "LayoutModel",
          "model_module_version": "1.2.0",
          "state": {
            "_model_module": "@jupyter-widgets/base",
            "_model_module_version": "1.2.0",
            "_model_name": "LayoutModel",
            "_view_count": null,
            "_view_module": "@jupyter-widgets/base",
            "_view_module_version": "1.2.0",
            "_view_name": "LayoutView",
            "align_content": null,
            "align_items": null,
            "align_self": null,
            "border": null,
            "bottom": null,
            "display": null,
            "flex": null,
            "flex_flow": null,
            "grid_area": null,
            "grid_auto_columns": null,
            "grid_auto_flow": null,
            "grid_auto_rows": null,
            "grid_column": null,
            "grid_gap": null,
            "grid_row": null,
            "grid_template_areas": null,
            "grid_template_columns": null,
            "grid_template_rows": null,
            "height": null,
            "justify_content": null,
            "justify_items": null,
            "left": null,
            "margin": null,
            "max_height": null,
            "max_width": null,
            "min_height": null,
            "min_width": null,
            "object_fit": null,
            "object_position": null,
            "order": null,
            "overflow": null,
            "overflow_x": null,
            "overflow_y": null,
            "padding": null,
            "right": null,
            "top": null,
            "visibility": null,
            "width": null
          }
        },
        "d1c486d57ef14af78136fc82ac0ad739": {
          "model_module": "@jupyter-widgets/controls",
          "model_name": "DescriptionStyleModel",
          "model_module_version": "1.5.0",
          "state": {
            "_model_module": "@jupyter-widgets/controls",
            "_model_module_version": "1.5.0",
            "_model_name": "DescriptionStyleModel",
            "_view_count": null,
            "_view_module": "@jupyter-widgets/base",
            "_view_module_version": "1.2.0",
            "_view_name": "StyleView",
            "description_width": ""
          }
        },
        "a546cb9036464abf93e44dabc1a0d038": {
          "model_module": "@jupyter-widgets/base",
          "model_name": "LayoutModel",
          "model_module_version": "1.2.0",
          "state": {
            "_model_module": "@jupyter-widgets/base",
            "_model_module_version": "1.2.0",
            "_model_name": "LayoutModel",
            "_view_count": null,
            "_view_module": "@jupyter-widgets/base",
            "_view_module_version": "1.2.0",
            "_view_name": "LayoutView",
            "align_content": null,
            "align_items": null,
            "align_self": null,
            "border": null,
            "bottom": null,
            "display": null,
            "flex": null,
            "flex_flow": null,
            "grid_area": null,
            "grid_auto_columns": null,
            "grid_auto_flow": null,
            "grid_auto_rows": null,
            "grid_column": null,
            "grid_gap": null,
            "grid_row": null,
            "grid_template_areas": null,
            "grid_template_columns": null,
            "grid_template_rows": null,
            "height": null,
            "justify_content": null,
            "justify_items": null,
            "left": null,
            "margin": null,
            "max_height": null,
            "max_width": null,
            "min_height": null,
            "min_width": null,
            "object_fit": null,
            "object_position": null,
            "order": null,
            "overflow": null,
            "overflow_x": null,
            "overflow_y": null,
            "padding": null,
            "right": null,
            "top": null,
            "visibility": null,
            "width": "20px"
          }
        },
        "307138d574c14a3bbc497d39f265ac8c": {
          "model_module": "@jupyter-widgets/controls",
          "model_name": "ProgressStyleModel",
          "model_module_version": "1.5.0",
          "state": {
            "_model_module": "@jupyter-widgets/controls",
            "_model_module_version": "1.5.0",
            "_model_name": "ProgressStyleModel",
            "_view_count": null,
            "_view_module": "@jupyter-widgets/base",
            "_view_module_version": "1.2.0",
            "_view_name": "StyleView",
            "bar_color": null,
            "description_width": ""
          }
        },
        "f2b02d01ab21448fa584a023720c88cc": {
          "model_module": "@jupyter-widgets/base",
          "model_name": "LayoutModel",
          "model_module_version": "1.2.0",
          "state": {
            "_model_module": "@jupyter-widgets/base",
            "_model_module_version": "1.2.0",
            "_model_name": "LayoutModel",
            "_view_count": null,
            "_view_module": "@jupyter-widgets/base",
            "_view_module_version": "1.2.0",
            "_view_name": "LayoutView",
            "align_content": null,
            "align_items": null,
            "align_self": null,
            "border": null,
            "bottom": null,
            "display": null,
            "flex": null,
            "flex_flow": null,
            "grid_area": null,
            "grid_auto_columns": null,
            "grid_auto_flow": null,
            "grid_auto_rows": null,
            "grid_column": null,
            "grid_gap": null,
            "grid_row": null,
            "grid_template_areas": null,
            "grid_template_columns": null,
            "grid_template_rows": null,
            "height": null,
            "justify_content": null,
            "justify_items": null,
            "left": null,
            "margin": null,
            "max_height": null,
            "max_width": null,
            "min_height": null,
            "min_width": null,
            "object_fit": null,
            "object_position": null,
            "order": null,
            "overflow": null,
            "overflow_x": null,
            "overflow_y": null,
            "padding": null,
            "right": null,
            "top": null,
            "visibility": null,
            "width": null
          }
        },
        "ae2768498118499f8a9f1237845e04d9": {
          "model_module": "@jupyter-widgets/controls",
          "model_name": "DescriptionStyleModel",
          "model_module_version": "1.5.0",
          "state": {
            "_model_module": "@jupyter-widgets/controls",
            "_model_module_version": "1.5.0",
            "_model_name": "DescriptionStyleModel",
            "_view_count": null,
            "_view_module": "@jupyter-widgets/base",
            "_view_module_version": "1.2.0",
            "_view_name": "StyleView",
            "description_width": ""
          }
        },
        "b3ea516efc3942968109a89cbed939f5": {
          "model_module": "@jupyter-widgets/controls",
          "model_name": "HBoxModel",
          "model_module_version": "1.5.0",
          "state": {
            "_dom_classes": [],
            "_model_module": "@jupyter-widgets/controls",
            "_model_module_version": "1.5.0",
            "_model_name": "HBoxModel",
            "_view_count": null,
            "_view_module": "@jupyter-widgets/controls",
            "_view_module_version": "1.5.0",
            "_view_name": "HBoxView",
            "box_style": "",
            "children": [
              "IPY_MODEL_198fb34f137d4f5fb43378ea6c8040b0",
              "IPY_MODEL_e2ef2cda3a6d4a50becba123324a56e0",
              "IPY_MODEL_b1aad92544fa477ca7a06fd41a0f1485"
            ],
            "layout": "IPY_MODEL_6d81facc85a24f58857499bc113681b9"
          }
        },
        "198fb34f137d4f5fb43378ea6c8040b0": {
          "model_module": "@jupyter-widgets/controls",
          "model_name": "HTMLModel",
          "model_module_version": "1.5.0",
          "state": {
            "_dom_classes": [],
            "_model_module": "@jupyter-widgets/controls",
            "_model_module_version": "1.5.0",
            "_model_name": "HTMLModel",
            "_view_count": null,
            "_view_module": "@jupyter-widgets/controls",
            "_view_module_version": "1.5.0",
            "_view_name": "HTMLView",
            "description": "",
            "description_tooltip": null,
            "layout": "IPY_MODEL_c9c64f995c374d8e911fd27d79da843f",
            "placeholder": "​",
            "style": "IPY_MODEL_b8ddc7f236404a7aae66956128898cfe",
            "value": "Generating splits...: 100%"
          }
        },
        "e2ef2cda3a6d4a50becba123324a56e0": {
          "model_module": "@jupyter-widgets/controls",
          "model_name": "FloatProgressModel",
          "model_module_version": "1.5.0",
          "state": {
            "_dom_classes": [],
            "_model_module": "@jupyter-widgets/controls",
            "_model_module_version": "1.5.0",
            "_model_name": "FloatProgressModel",
            "_view_count": null,
            "_view_module": "@jupyter-widgets/controls",
            "_view_module_version": "1.5.0",
            "_view_name": "ProgressView",
            "bar_style": "",
            "description": "",
            "description_tooltip": null,
            "layout": "IPY_MODEL_c7b22934339344ebab56a6019e83f9d4",
            "max": 3,
            "min": 0,
            "orientation": "horizontal",
            "style": "IPY_MODEL_81de17bcb2894b718a8f3b7fdf9f53b6",
            "value": 3
          }
        },
        "b1aad92544fa477ca7a06fd41a0f1485": {
          "model_module": "@jupyter-widgets/controls",
          "model_name": "HTMLModel",
          "model_module_version": "1.5.0",
          "state": {
            "_dom_classes": [],
            "_model_module": "@jupyter-widgets/controls",
            "_model_module_version": "1.5.0",
            "_model_name": "HTMLModel",
            "_view_count": null,
            "_view_module": "@jupyter-widgets/controls",
            "_view_module_version": "1.5.0",
            "_view_name": "HTMLView",
            "description": "",
            "description_tooltip": null,
            "layout": "IPY_MODEL_3af8089c01f943cea6c680f3945f94e4",
            "placeholder": "​",
            "style": "IPY_MODEL_4c818ae0f03144029bacf3eb738f2469",
            "value": " 3/3 [07:43&lt;00:00, 196.04s/ splits]"
          }
        },
        "6d81facc85a24f58857499bc113681b9": {
          "model_module": "@jupyter-widgets/base",
          "model_name": "LayoutModel",
          "model_module_version": "1.2.0",
          "state": {
            "_model_module": "@jupyter-widgets/base",
            "_model_module_version": "1.2.0",
            "_model_name": "LayoutModel",
            "_view_count": null,
            "_view_module": "@jupyter-widgets/base",
            "_view_module_version": "1.2.0",
            "_view_name": "LayoutView",
            "align_content": null,
            "align_items": null,
            "align_self": null,
            "border": null,
            "bottom": null,
            "display": null,
            "flex": null,
            "flex_flow": null,
            "grid_area": null,
            "grid_auto_columns": null,
            "grid_auto_flow": null,
            "grid_auto_rows": null,
            "grid_column": null,
            "grid_gap": null,
            "grid_row": null,
            "grid_template_areas": null,
            "grid_template_columns": null,
            "grid_template_rows": null,
            "height": null,
            "justify_content": null,
            "justify_items": null,
            "left": null,
            "margin": null,
            "max_height": null,
            "max_width": null,
            "min_height": null,
            "min_width": null,
            "object_fit": null,
            "object_position": null,
            "order": null,
            "overflow": null,
            "overflow_x": null,
            "overflow_y": null,
            "padding": null,
            "right": null,
            "top": null,
            "visibility": "hidden",
            "width": null
          }
        },
        "c9c64f995c374d8e911fd27d79da843f": {
          "model_module": "@jupyter-widgets/base",
          "model_name": "LayoutModel",
          "model_module_version": "1.2.0",
          "state": {
            "_model_module": "@jupyter-widgets/base",
            "_model_module_version": "1.2.0",
            "_model_name": "LayoutModel",
            "_view_count": null,
            "_view_module": "@jupyter-widgets/base",
            "_view_module_version": "1.2.0",
            "_view_name": "LayoutView",
            "align_content": null,
            "align_items": null,
            "align_self": null,
            "border": null,
            "bottom": null,
            "display": null,
            "flex": null,
            "flex_flow": null,
            "grid_area": null,
            "grid_auto_columns": null,
            "grid_auto_flow": null,
            "grid_auto_rows": null,
            "grid_column": null,
            "grid_gap": null,
            "grid_row": null,
            "grid_template_areas": null,
            "grid_template_columns": null,
            "grid_template_rows": null,
            "height": null,
            "justify_content": null,
            "justify_items": null,
            "left": null,
            "margin": null,
            "max_height": null,
            "max_width": null,
            "min_height": null,
            "min_width": null,
            "object_fit": null,
            "object_position": null,
            "order": null,
            "overflow": null,
            "overflow_x": null,
            "overflow_y": null,
            "padding": null,
            "right": null,
            "top": null,
            "visibility": null,
            "width": null
          }
        },
        "b8ddc7f236404a7aae66956128898cfe": {
          "model_module": "@jupyter-widgets/controls",
          "model_name": "DescriptionStyleModel",
          "model_module_version": "1.5.0",
          "state": {
            "_model_module": "@jupyter-widgets/controls",
            "_model_module_version": "1.5.0",
            "_model_name": "DescriptionStyleModel",
            "_view_count": null,
            "_view_module": "@jupyter-widgets/base",
            "_view_module_version": "1.2.0",
            "_view_name": "StyleView",
            "description_width": ""
          }
        },
        "c7b22934339344ebab56a6019e83f9d4": {
          "model_module": "@jupyter-widgets/base",
          "model_name": "LayoutModel",
          "model_module_version": "1.2.0",
          "state": {
            "_model_module": "@jupyter-widgets/base",
            "_model_module_version": "1.2.0",
            "_model_name": "LayoutModel",
            "_view_count": null,
            "_view_module": "@jupyter-widgets/base",
            "_view_module_version": "1.2.0",
            "_view_name": "LayoutView",
            "align_content": null,
            "align_items": null,
            "align_self": null,
            "border": null,
            "bottom": null,
            "display": null,
            "flex": null,
            "flex_flow": null,
            "grid_area": null,
            "grid_auto_columns": null,
            "grid_auto_flow": null,
            "grid_auto_rows": null,
            "grid_column": null,
            "grid_gap": null,
            "grid_row": null,
            "grid_template_areas": null,
            "grid_template_columns": null,
            "grid_template_rows": null,
            "height": null,
            "justify_content": null,
            "justify_items": null,
            "left": null,
            "margin": null,
            "max_height": null,
            "max_width": null,
            "min_height": null,
            "min_width": null,
            "object_fit": null,
            "object_position": null,
            "order": null,
            "overflow": null,
            "overflow_x": null,
            "overflow_y": null,
            "padding": null,
            "right": null,
            "top": null,
            "visibility": null,
            "width": null
          }
        },
        "81de17bcb2894b718a8f3b7fdf9f53b6": {
          "model_module": "@jupyter-widgets/controls",
          "model_name": "ProgressStyleModel",
          "model_module_version": "1.5.0",
          "state": {
            "_model_module": "@jupyter-widgets/controls",
            "_model_module_version": "1.5.0",
            "_model_name": "ProgressStyleModel",
            "_view_count": null,
            "_view_module": "@jupyter-widgets/base",
            "_view_module_version": "1.2.0",
            "_view_name": "StyleView",
            "bar_color": null,
            "description_width": ""
          }
        },
        "3af8089c01f943cea6c680f3945f94e4": {
          "model_module": "@jupyter-widgets/base",
          "model_name": "LayoutModel",
          "model_module_version": "1.2.0",
          "state": {
            "_model_module": "@jupyter-widgets/base",
            "_model_module_version": "1.2.0",
            "_model_name": "LayoutModel",
            "_view_count": null,
            "_view_module": "@jupyter-widgets/base",
            "_view_module_version": "1.2.0",
            "_view_name": "LayoutView",
            "align_content": null,
            "align_items": null,
            "align_self": null,
            "border": null,
            "bottom": null,
            "display": null,
            "flex": null,
            "flex_flow": null,
            "grid_area": null,
            "grid_auto_columns": null,
            "grid_auto_flow": null,
            "grid_auto_rows": null,
            "grid_column": null,
            "grid_gap": null,
            "grid_row": null,
            "grid_template_areas": null,
            "grid_template_columns": null,
            "grid_template_rows": null,
            "height": null,
            "justify_content": null,
            "justify_items": null,
            "left": null,
            "margin": null,
            "max_height": null,
            "max_width": null,
            "min_height": null,
            "min_width": null,
            "object_fit": null,
            "object_position": null,
            "order": null,
            "overflow": null,
            "overflow_x": null,
            "overflow_y": null,
            "padding": null,
            "right": null,
            "top": null,
            "visibility": null,
            "width": null
          }
        },
        "4c818ae0f03144029bacf3eb738f2469": {
          "model_module": "@jupyter-widgets/controls",
          "model_name": "DescriptionStyleModel",
          "model_module_version": "1.5.0",
          "state": {
            "_model_module": "@jupyter-widgets/controls",
            "_model_module_version": "1.5.0",
            "_model_name": "DescriptionStyleModel",
            "_view_count": null,
            "_view_module": "@jupyter-widgets/base",
            "_view_module_version": "1.2.0",
            "_view_name": "StyleView",
            "description_width": ""
          }
        },
        "d46ff0ee54ab4224af7588b86bdca3ee": {
          "model_module": "@jupyter-widgets/controls",
          "model_name": "HBoxModel",
          "model_module_version": "1.5.0",
          "state": {
            "_dom_classes": [],
            "_model_module": "@jupyter-widgets/controls",
            "_model_module_version": "1.5.0",
            "_model_name": "HBoxModel",
            "_view_count": null,
            "_view_module": "@jupyter-widgets/controls",
            "_view_module_version": "1.5.0",
            "_view_name": "HBoxView",
            "box_style": "",
            "children": [
              "IPY_MODEL_c7081e6a2c904f238774b0ec6449a1d1",
              "IPY_MODEL_339ad9d7e8fd47a8a083926ce69b5369",
              "IPY_MODEL_03d4eb1b1eda4a64a18f2e1a3057bc96"
            ],
            "layout": "IPY_MODEL_da9a4ec5997e4455bbbd4e67fee1194d"
          }
        },
        "c7081e6a2c904f238774b0ec6449a1d1": {
          "model_module": "@jupyter-widgets/controls",
          "model_name": "HTMLModel",
          "model_module_version": "1.5.0",
          "state": {
            "_dom_classes": [],
            "_model_module": "@jupyter-widgets/controls",
            "_model_module_version": "1.5.0",
            "_model_name": "HTMLModel",
            "_view_count": null,
            "_view_module": "@jupyter-widgets/controls",
            "_view_module_version": "1.5.0",
            "_view_name": "HTMLView",
            "description": "",
            "description_tooltip": null,
            "layout": "IPY_MODEL_5b5ad3e5f5514b80870420d2ef211292",
            "placeholder": "​",
            "style": "IPY_MODEL_f6d4e4ca6ce84d8a9ffa7f8d2fd58aab",
            "value": "Generating train examples...:  99%"
          }
        },
        "339ad9d7e8fd47a8a083926ce69b5369": {
          "model_module": "@jupyter-widgets/controls",
          "model_name": "FloatProgressModel",
          "model_module_version": "1.5.0",
          "state": {
            "_dom_classes": [],
            "_model_module": "@jupyter-widgets/controls",
            "_model_module_version": "1.5.0",
            "_model_name": "FloatProgressModel",
            "_view_count": null,
            "_view_module": "@jupyter-widgets/controls",
            "_view_module_version": "1.5.0",
            "_view_name": "ProgressView",
            "bar_style": "",
            "description": "",
            "description_tooltip": null,
            "layout": "IPY_MODEL_1aa4d2538fac4c5589c8620d05993732",
            "max": 73257,
            "min": 0,
            "orientation": "horizontal",
            "style": "IPY_MODEL_019609a58388457e872e6697103ae86a",
            "value": 73257
          }
        },
        "03d4eb1b1eda4a64a18f2e1a3057bc96": {
          "model_module": "@jupyter-widgets/controls",
          "model_name": "HTMLModel",
          "model_module_version": "1.5.0",
          "state": {
            "_dom_classes": [],
            "_model_module": "@jupyter-widgets/controls",
            "_model_module_version": "1.5.0",
            "_model_name": "HTMLModel",
            "_view_count": null,
            "_view_module": "@jupyter-widgets/controls",
            "_view_module_version": "1.5.0",
            "_view_name": "HTMLView",
            "description": "",
            "description_tooltip": null,
            "layout": "IPY_MODEL_a1355cd608954532be383b7e17cfb00f",
            "placeholder": "​",
            "style": "IPY_MODEL_7dc976abc6f44500bfa8a33a19165744",
            "value": " 72161/73257 [00:54&lt;00:00, 1440.69 examples/s]"
          }
        },
        "da9a4ec5997e4455bbbd4e67fee1194d": {
          "model_module": "@jupyter-widgets/base",
          "model_name": "LayoutModel",
          "model_module_version": "1.2.0",
          "state": {
            "_model_module": "@jupyter-widgets/base",
            "_model_module_version": "1.2.0",
            "_model_name": "LayoutModel",
            "_view_count": null,
            "_view_module": "@jupyter-widgets/base",
            "_view_module_version": "1.2.0",
            "_view_name": "LayoutView",
            "align_content": null,
            "align_items": null,
            "align_self": null,
            "border": null,
            "bottom": null,
            "display": null,
            "flex": null,
            "flex_flow": null,
            "grid_area": null,
            "grid_auto_columns": null,
            "grid_auto_flow": null,
            "grid_auto_rows": null,
            "grid_column": null,
            "grid_gap": null,
            "grid_row": null,
            "grid_template_areas": null,
            "grid_template_columns": null,
            "grid_template_rows": null,
            "height": null,
            "justify_content": null,
            "justify_items": null,
            "left": null,
            "margin": null,
            "max_height": null,
            "max_width": null,
            "min_height": null,
            "min_width": null,
            "object_fit": null,
            "object_position": null,
            "order": null,
            "overflow": null,
            "overflow_x": null,
            "overflow_y": null,
            "padding": null,
            "right": null,
            "top": null,
            "visibility": "hidden",
            "width": null
          }
        },
        "5b5ad3e5f5514b80870420d2ef211292": {
          "model_module": "@jupyter-widgets/base",
          "model_name": "LayoutModel",
          "model_module_version": "1.2.0",
          "state": {
            "_model_module": "@jupyter-widgets/base",
            "_model_module_version": "1.2.0",
            "_model_name": "LayoutModel",
            "_view_count": null,
            "_view_module": "@jupyter-widgets/base",
            "_view_module_version": "1.2.0",
            "_view_name": "LayoutView",
            "align_content": null,
            "align_items": null,
            "align_self": null,
            "border": null,
            "bottom": null,
            "display": null,
            "flex": null,
            "flex_flow": null,
            "grid_area": null,
            "grid_auto_columns": null,
            "grid_auto_flow": null,
            "grid_auto_rows": null,
            "grid_column": null,
            "grid_gap": null,
            "grid_row": null,
            "grid_template_areas": null,
            "grid_template_columns": null,
            "grid_template_rows": null,
            "height": null,
            "justify_content": null,
            "justify_items": null,
            "left": null,
            "margin": null,
            "max_height": null,
            "max_width": null,
            "min_height": null,
            "min_width": null,
            "object_fit": null,
            "object_position": null,
            "order": null,
            "overflow": null,
            "overflow_x": null,
            "overflow_y": null,
            "padding": null,
            "right": null,
            "top": null,
            "visibility": null,
            "width": null
          }
        },
        "f6d4e4ca6ce84d8a9ffa7f8d2fd58aab": {
          "model_module": "@jupyter-widgets/controls",
          "model_name": "DescriptionStyleModel",
          "model_module_version": "1.5.0",
          "state": {
            "_model_module": "@jupyter-widgets/controls",
            "_model_module_version": "1.5.0",
            "_model_name": "DescriptionStyleModel",
            "_view_count": null,
            "_view_module": "@jupyter-widgets/base",
            "_view_module_version": "1.2.0",
            "_view_name": "StyleView",
            "description_width": ""
          }
        },
        "1aa4d2538fac4c5589c8620d05993732": {
          "model_module": "@jupyter-widgets/base",
          "model_name": "LayoutModel",
          "model_module_version": "1.2.0",
          "state": {
            "_model_module": "@jupyter-widgets/base",
            "_model_module_version": "1.2.0",
            "_model_name": "LayoutModel",
            "_view_count": null,
            "_view_module": "@jupyter-widgets/base",
            "_view_module_version": "1.2.0",
            "_view_name": "LayoutView",
            "align_content": null,
            "align_items": null,
            "align_self": null,
            "border": null,
            "bottom": null,
            "display": null,
            "flex": null,
            "flex_flow": null,
            "grid_area": null,
            "grid_auto_columns": null,
            "grid_auto_flow": null,
            "grid_auto_rows": null,
            "grid_column": null,
            "grid_gap": null,
            "grid_row": null,
            "grid_template_areas": null,
            "grid_template_columns": null,
            "grid_template_rows": null,
            "height": null,
            "justify_content": null,
            "justify_items": null,
            "left": null,
            "margin": null,
            "max_height": null,
            "max_width": null,
            "min_height": null,
            "min_width": null,
            "object_fit": null,
            "object_position": null,
            "order": null,
            "overflow": null,
            "overflow_x": null,
            "overflow_y": null,
            "padding": null,
            "right": null,
            "top": null,
            "visibility": null,
            "width": null
          }
        },
        "019609a58388457e872e6697103ae86a": {
          "model_module": "@jupyter-widgets/controls",
          "model_name": "ProgressStyleModel",
          "model_module_version": "1.5.0",
          "state": {
            "_model_module": "@jupyter-widgets/controls",
            "_model_module_version": "1.5.0",
            "_model_name": "ProgressStyleModel",
            "_view_count": null,
            "_view_module": "@jupyter-widgets/base",
            "_view_module_version": "1.2.0",
            "_view_name": "StyleView",
            "bar_color": null,
            "description_width": ""
          }
        },
        "a1355cd608954532be383b7e17cfb00f": {
          "model_module": "@jupyter-widgets/base",
          "model_name": "LayoutModel",
          "model_module_version": "1.2.0",
          "state": {
            "_model_module": "@jupyter-widgets/base",
            "_model_module_version": "1.2.0",
            "_model_name": "LayoutModel",
            "_view_count": null,
            "_view_module": "@jupyter-widgets/base",
            "_view_module_version": "1.2.0",
            "_view_name": "LayoutView",
            "align_content": null,
            "align_items": null,
            "align_self": null,
            "border": null,
            "bottom": null,
            "display": null,
            "flex": null,
            "flex_flow": null,
            "grid_area": null,
            "grid_auto_columns": null,
            "grid_auto_flow": null,
            "grid_auto_rows": null,
            "grid_column": null,
            "grid_gap": null,
            "grid_row": null,
            "grid_template_areas": null,
            "grid_template_columns": null,
            "grid_template_rows": null,
            "height": null,
            "justify_content": null,
            "justify_items": null,
            "left": null,
            "margin": null,
            "max_height": null,
            "max_width": null,
            "min_height": null,
            "min_width": null,
            "object_fit": null,
            "object_position": null,
            "order": null,
            "overflow": null,
            "overflow_x": null,
            "overflow_y": null,
            "padding": null,
            "right": null,
            "top": null,
            "visibility": null,
            "width": null
          }
        },
        "7dc976abc6f44500bfa8a33a19165744": {
          "model_module": "@jupyter-widgets/controls",
          "model_name": "DescriptionStyleModel",
          "model_module_version": "1.5.0",
          "state": {
            "_model_module": "@jupyter-widgets/controls",
            "_model_module_version": "1.5.0",
            "_model_name": "DescriptionStyleModel",
            "_view_count": null,
            "_view_module": "@jupyter-widgets/base",
            "_view_module_version": "1.2.0",
            "_view_name": "StyleView",
            "description_width": ""
          }
        },
        "cfef9642261d4b5e8b27941e60ab9a5b": {
          "model_module": "@jupyter-widgets/controls",
          "model_name": "HBoxModel",
          "model_module_version": "1.5.0",
          "state": {
            "_dom_classes": [],
            "_model_module": "@jupyter-widgets/controls",
            "_model_module_version": "1.5.0",
            "_model_name": "HBoxModel",
            "_view_count": null,
            "_view_module": "@jupyter-widgets/controls",
            "_view_module_version": "1.5.0",
            "_view_name": "HBoxView",
            "box_style": "",
            "children": [
              "IPY_MODEL_e5d7328aba194ca0b4a7eb74c973a2ad",
              "IPY_MODEL_0e2154ed076e4730bc49c5f1cdd53165",
              "IPY_MODEL_c806b966e23842b487321f846c97b6fe"
            ],
            "layout": "IPY_MODEL_3273cafb350b4ef89083388879d935da"
          }
        },
        "e5d7328aba194ca0b4a7eb74c973a2ad": {
          "model_module": "@jupyter-widgets/controls",
          "model_name": "HTMLModel",
          "model_module_version": "1.5.0",
          "state": {
            "_dom_classes": [],
            "_model_module": "@jupyter-widgets/controls",
            "_model_module_version": "1.5.0",
            "_model_name": "HTMLModel",
            "_view_count": null,
            "_view_module": "@jupyter-widgets/controls",
            "_view_module_version": "1.5.0",
            "_view_name": "HTMLView",
            "description": "",
            "description_tooltip": null,
            "layout": "IPY_MODEL_d20756cad84f478b9f3422cc7981f3b0",
            "placeholder": "​",
            "style": "IPY_MODEL_cbd205a7bb464678a0f17fa236c0ad7f",
            "value": "Shuffling /root/tensorflow_datasets/svhn_cropped/3.0.0.incompleteLKB4Z8/svhn_cropped-train.tfrecord*...:  81%"
          }
        },
        "0e2154ed076e4730bc49c5f1cdd53165": {
          "model_module": "@jupyter-widgets/controls",
          "model_name": "FloatProgressModel",
          "model_module_version": "1.5.0",
          "state": {
            "_dom_classes": [],
            "_model_module": "@jupyter-widgets/controls",
            "_model_module_version": "1.5.0",
            "_model_name": "FloatProgressModel",
            "_view_count": null,
            "_view_module": "@jupyter-widgets/controls",
            "_view_module_version": "1.5.0",
            "_view_name": "ProgressView",
            "bar_style": "",
            "description": "",
            "description_tooltip": null,
            "layout": "IPY_MODEL_f4471f28d7e147d29aeb10b4b88839ee",
            "max": 73257,
            "min": 0,
            "orientation": "horizontal",
            "style": "IPY_MODEL_9a18faa9cc5c4a67856e734078b85e37",
            "value": 73257
          }
        },
        "c806b966e23842b487321f846c97b6fe": {
          "model_module": "@jupyter-widgets/controls",
          "model_name": "HTMLModel",
          "model_module_version": "1.5.0",
          "state": {
            "_dom_classes": [],
            "_model_module": "@jupyter-widgets/controls",
            "_model_module_version": "1.5.0",
            "_model_name": "HTMLModel",
            "_view_count": null,
            "_view_module": "@jupyter-widgets/controls",
            "_view_module_version": "1.5.0",
            "_view_name": "HTMLView",
            "description": "",
            "description_tooltip": null,
            "layout": "IPY_MODEL_cb100f173708489a890fd8b9ab3f6235",
            "placeholder": "​",
            "style": "IPY_MODEL_fcbc6c8e82124f34a403aacfcc44233b",
            "value": " 59381/73257 [00:00&lt;00:00, 213541.88 examples/s]"
          }
        },
        "3273cafb350b4ef89083388879d935da": {
          "model_module": "@jupyter-widgets/base",
          "model_name": "LayoutModel",
          "model_module_version": "1.2.0",
          "state": {
            "_model_module": "@jupyter-widgets/base",
            "_model_module_version": "1.2.0",
            "_model_name": "LayoutModel",
            "_view_count": null,
            "_view_module": "@jupyter-widgets/base",
            "_view_module_version": "1.2.0",
            "_view_name": "LayoutView",
            "align_content": null,
            "align_items": null,
            "align_self": null,
            "border": null,
            "bottom": null,
            "display": null,
            "flex": null,
            "flex_flow": null,
            "grid_area": null,
            "grid_auto_columns": null,
            "grid_auto_flow": null,
            "grid_auto_rows": null,
            "grid_column": null,
            "grid_gap": null,
            "grid_row": null,
            "grid_template_areas": null,
            "grid_template_columns": null,
            "grid_template_rows": null,
            "height": null,
            "justify_content": null,
            "justify_items": null,
            "left": null,
            "margin": null,
            "max_height": null,
            "max_width": null,
            "min_height": null,
            "min_width": null,
            "object_fit": null,
            "object_position": null,
            "order": null,
            "overflow": null,
            "overflow_x": null,
            "overflow_y": null,
            "padding": null,
            "right": null,
            "top": null,
            "visibility": "hidden",
            "width": null
          }
        },
        "d20756cad84f478b9f3422cc7981f3b0": {
          "model_module": "@jupyter-widgets/base",
          "model_name": "LayoutModel",
          "model_module_version": "1.2.0",
          "state": {
            "_model_module": "@jupyter-widgets/base",
            "_model_module_version": "1.2.0",
            "_model_name": "LayoutModel",
            "_view_count": null,
            "_view_module": "@jupyter-widgets/base",
            "_view_module_version": "1.2.0",
            "_view_name": "LayoutView",
            "align_content": null,
            "align_items": null,
            "align_self": null,
            "border": null,
            "bottom": null,
            "display": null,
            "flex": null,
            "flex_flow": null,
            "grid_area": null,
            "grid_auto_columns": null,
            "grid_auto_flow": null,
            "grid_auto_rows": null,
            "grid_column": null,
            "grid_gap": null,
            "grid_row": null,
            "grid_template_areas": null,
            "grid_template_columns": null,
            "grid_template_rows": null,
            "height": null,
            "justify_content": null,
            "justify_items": null,
            "left": null,
            "margin": null,
            "max_height": null,
            "max_width": null,
            "min_height": null,
            "min_width": null,
            "object_fit": null,
            "object_position": null,
            "order": null,
            "overflow": null,
            "overflow_x": null,
            "overflow_y": null,
            "padding": null,
            "right": null,
            "top": null,
            "visibility": null,
            "width": null
          }
        },
        "cbd205a7bb464678a0f17fa236c0ad7f": {
          "model_module": "@jupyter-widgets/controls",
          "model_name": "DescriptionStyleModel",
          "model_module_version": "1.5.0",
          "state": {
            "_model_module": "@jupyter-widgets/controls",
            "_model_module_version": "1.5.0",
            "_model_name": "DescriptionStyleModel",
            "_view_count": null,
            "_view_module": "@jupyter-widgets/base",
            "_view_module_version": "1.2.0",
            "_view_name": "StyleView",
            "description_width": ""
          }
        },
        "f4471f28d7e147d29aeb10b4b88839ee": {
          "model_module": "@jupyter-widgets/base",
          "model_name": "LayoutModel",
          "model_module_version": "1.2.0",
          "state": {
            "_model_module": "@jupyter-widgets/base",
            "_model_module_version": "1.2.0",
            "_model_name": "LayoutModel",
            "_view_count": null,
            "_view_module": "@jupyter-widgets/base",
            "_view_module_version": "1.2.0",
            "_view_name": "LayoutView",
            "align_content": null,
            "align_items": null,
            "align_self": null,
            "border": null,
            "bottom": null,
            "display": null,
            "flex": null,
            "flex_flow": null,
            "grid_area": null,
            "grid_auto_columns": null,
            "grid_auto_flow": null,
            "grid_auto_rows": null,
            "grid_column": null,
            "grid_gap": null,
            "grid_row": null,
            "grid_template_areas": null,
            "grid_template_columns": null,
            "grid_template_rows": null,
            "height": null,
            "justify_content": null,
            "justify_items": null,
            "left": null,
            "margin": null,
            "max_height": null,
            "max_width": null,
            "min_height": null,
            "min_width": null,
            "object_fit": null,
            "object_position": null,
            "order": null,
            "overflow": null,
            "overflow_x": null,
            "overflow_y": null,
            "padding": null,
            "right": null,
            "top": null,
            "visibility": null,
            "width": null
          }
        },
        "9a18faa9cc5c4a67856e734078b85e37": {
          "model_module": "@jupyter-widgets/controls",
          "model_name": "ProgressStyleModel",
          "model_module_version": "1.5.0",
          "state": {
            "_model_module": "@jupyter-widgets/controls",
            "_model_module_version": "1.5.0",
            "_model_name": "ProgressStyleModel",
            "_view_count": null,
            "_view_module": "@jupyter-widgets/base",
            "_view_module_version": "1.2.0",
            "_view_name": "StyleView",
            "bar_color": null,
            "description_width": ""
          }
        },
        "cb100f173708489a890fd8b9ab3f6235": {
          "model_module": "@jupyter-widgets/base",
          "model_name": "LayoutModel",
          "model_module_version": "1.2.0",
          "state": {
            "_model_module": "@jupyter-widgets/base",
            "_model_module_version": "1.2.0",
            "_model_name": "LayoutModel",
            "_view_count": null,
            "_view_module": "@jupyter-widgets/base",
            "_view_module_version": "1.2.0",
            "_view_name": "LayoutView",
            "align_content": null,
            "align_items": null,
            "align_self": null,
            "border": null,
            "bottom": null,
            "display": null,
            "flex": null,
            "flex_flow": null,
            "grid_area": null,
            "grid_auto_columns": null,
            "grid_auto_flow": null,
            "grid_auto_rows": null,
            "grid_column": null,
            "grid_gap": null,
            "grid_row": null,
            "grid_template_areas": null,
            "grid_template_columns": null,
            "grid_template_rows": null,
            "height": null,
            "justify_content": null,
            "justify_items": null,
            "left": null,
            "margin": null,
            "max_height": null,
            "max_width": null,
            "min_height": null,
            "min_width": null,
            "object_fit": null,
            "object_position": null,
            "order": null,
            "overflow": null,
            "overflow_x": null,
            "overflow_y": null,
            "padding": null,
            "right": null,
            "top": null,
            "visibility": null,
            "width": null
          }
        },
        "fcbc6c8e82124f34a403aacfcc44233b": {
          "model_module": "@jupyter-widgets/controls",
          "model_name": "DescriptionStyleModel",
          "model_module_version": "1.5.0",
          "state": {
            "_model_module": "@jupyter-widgets/controls",
            "_model_module_version": "1.5.0",
            "_model_name": "DescriptionStyleModel",
            "_view_count": null,
            "_view_module": "@jupyter-widgets/base",
            "_view_module_version": "1.2.0",
            "_view_name": "StyleView",
            "description_width": ""
          }
        },
        "1af4be0e1c4240ac93bc9aa215e2a464": {
          "model_module": "@jupyter-widgets/controls",
          "model_name": "HBoxModel",
          "model_module_version": "1.5.0",
          "state": {
            "_dom_classes": [],
            "_model_module": "@jupyter-widgets/controls",
            "_model_module_version": "1.5.0",
            "_model_name": "HBoxModel",
            "_view_count": null,
            "_view_module": "@jupyter-widgets/controls",
            "_view_module_version": "1.5.0",
            "_view_name": "HBoxView",
            "box_style": "",
            "children": [
              "IPY_MODEL_e8b3eee732d64d6e858539a672ce3afb",
              "IPY_MODEL_5b70f6479d174a73855ed6fdc088e9c0",
              "IPY_MODEL_e88ab75afbbe48ce9a5c5aceafc75307"
            ],
            "layout": "IPY_MODEL_8f9263f4c07e429a9e304f19b3b4c231"
          }
        },
        "e8b3eee732d64d6e858539a672ce3afb": {
          "model_module": "@jupyter-widgets/controls",
          "model_name": "HTMLModel",
          "model_module_version": "1.5.0",
          "state": {
            "_dom_classes": [],
            "_model_module": "@jupyter-widgets/controls",
            "_model_module_version": "1.5.0",
            "_model_name": "HTMLModel",
            "_view_count": null,
            "_view_module": "@jupyter-widgets/controls",
            "_view_module_version": "1.5.0",
            "_view_name": "HTMLView",
            "description": "",
            "description_tooltip": null,
            "layout": "IPY_MODEL_b6fc9132b743482b9d4d4b92697f1bb8",
            "placeholder": "​",
            "style": "IPY_MODEL_fa57d10b47fa43179869ac157a655a4a",
            "value": "Generating test examples...:  95%"
          }
        },
        "5b70f6479d174a73855ed6fdc088e9c0": {
          "model_module": "@jupyter-widgets/controls",
          "model_name": "FloatProgressModel",
          "model_module_version": "1.5.0",
          "state": {
            "_dom_classes": [],
            "_model_module": "@jupyter-widgets/controls",
            "_model_module_version": "1.5.0",
            "_model_name": "FloatProgressModel",
            "_view_count": null,
            "_view_module": "@jupyter-widgets/controls",
            "_view_module_version": "1.5.0",
            "_view_name": "ProgressView",
            "bar_style": "",
            "description": "",
            "description_tooltip": null,
            "layout": "IPY_MODEL_f6fe043d661345d9b8ba7d1732d64a9f",
            "max": 26032,
            "min": 0,
            "orientation": "horizontal",
            "style": "IPY_MODEL_61d52f8e99cc4e11b3c729b7b09e5d80",
            "value": 26032
          }
        },
        "e88ab75afbbe48ce9a5c5aceafc75307": {
          "model_module": "@jupyter-widgets/controls",
          "model_name": "HTMLModel",
          "model_module_version": "1.5.0",
          "state": {
            "_dom_classes": [],
            "_model_module": "@jupyter-widgets/controls",
            "_model_module_version": "1.5.0",
            "_model_name": "HTMLModel",
            "_view_count": null,
            "_view_module": "@jupyter-widgets/controls",
            "_view_module_version": "1.5.0",
            "_view_name": "HTMLView",
            "description": "",
            "description_tooltip": null,
            "layout": "IPY_MODEL_fe930b36e98443a19f003d9c9802e1e8",
            "placeholder": "​",
            "style": "IPY_MODEL_daa8ad986c5f401a9604959473e6beb7",
            "value": " 24697/26032 [00:18&lt;00:00, 1427.90 examples/s]"
          }
        },
        "8f9263f4c07e429a9e304f19b3b4c231": {
          "model_module": "@jupyter-widgets/base",
          "model_name": "LayoutModel",
          "model_module_version": "1.2.0",
          "state": {
            "_model_module": "@jupyter-widgets/base",
            "_model_module_version": "1.2.0",
            "_model_name": "LayoutModel",
            "_view_count": null,
            "_view_module": "@jupyter-widgets/base",
            "_view_module_version": "1.2.0",
            "_view_name": "LayoutView",
            "align_content": null,
            "align_items": null,
            "align_self": null,
            "border": null,
            "bottom": null,
            "display": null,
            "flex": null,
            "flex_flow": null,
            "grid_area": null,
            "grid_auto_columns": null,
            "grid_auto_flow": null,
            "grid_auto_rows": null,
            "grid_column": null,
            "grid_gap": null,
            "grid_row": null,
            "grid_template_areas": null,
            "grid_template_columns": null,
            "grid_template_rows": null,
            "height": null,
            "justify_content": null,
            "justify_items": null,
            "left": null,
            "margin": null,
            "max_height": null,
            "max_width": null,
            "min_height": null,
            "min_width": null,
            "object_fit": null,
            "object_position": null,
            "order": null,
            "overflow": null,
            "overflow_x": null,
            "overflow_y": null,
            "padding": null,
            "right": null,
            "top": null,
            "visibility": "hidden",
            "width": null
          }
        },
        "b6fc9132b743482b9d4d4b92697f1bb8": {
          "model_module": "@jupyter-widgets/base",
          "model_name": "LayoutModel",
          "model_module_version": "1.2.0",
          "state": {
            "_model_module": "@jupyter-widgets/base",
            "_model_module_version": "1.2.0",
            "_model_name": "LayoutModel",
            "_view_count": null,
            "_view_module": "@jupyter-widgets/base",
            "_view_module_version": "1.2.0",
            "_view_name": "LayoutView",
            "align_content": null,
            "align_items": null,
            "align_self": null,
            "border": null,
            "bottom": null,
            "display": null,
            "flex": null,
            "flex_flow": null,
            "grid_area": null,
            "grid_auto_columns": null,
            "grid_auto_flow": null,
            "grid_auto_rows": null,
            "grid_column": null,
            "grid_gap": null,
            "grid_row": null,
            "grid_template_areas": null,
            "grid_template_columns": null,
            "grid_template_rows": null,
            "height": null,
            "justify_content": null,
            "justify_items": null,
            "left": null,
            "margin": null,
            "max_height": null,
            "max_width": null,
            "min_height": null,
            "min_width": null,
            "object_fit": null,
            "object_position": null,
            "order": null,
            "overflow": null,
            "overflow_x": null,
            "overflow_y": null,
            "padding": null,
            "right": null,
            "top": null,
            "visibility": null,
            "width": null
          }
        },
        "fa57d10b47fa43179869ac157a655a4a": {
          "model_module": "@jupyter-widgets/controls",
          "model_name": "DescriptionStyleModel",
          "model_module_version": "1.5.0",
          "state": {
            "_model_module": "@jupyter-widgets/controls",
            "_model_module_version": "1.5.0",
            "_model_name": "DescriptionStyleModel",
            "_view_count": null,
            "_view_module": "@jupyter-widgets/base",
            "_view_module_version": "1.2.0",
            "_view_name": "StyleView",
            "description_width": ""
          }
        },
        "f6fe043d661345d9b8ba7d1732d64a9f": {
          "model_module": "@jupyter-widgets/base",
          "model_name": "LayoutModel",
          "model_module_version": "1.2.0",
          "state": {
            "_model_module": "@jupyter-widgets/base",
            "_model_module_version": "1.2.0",
            "_model_name": "LayoutModel",
            "_view_count": null,
            "_view_module": "@jupyter-widgets/base",
            "_view_module_version": "1.2.0",
            "_view_name": "LayoutView",
            "align_content": null,
            "align_items": null,
            "align_self": null,
            "border": null,
            "bottom": null,
            "display": null,
            "flex": null,
            "flex_flow": null,
            "grid_area": null,
            "grid_auto_columns": null,
            "grid_auto_flow": null,
            "grid_auto_rows": null,
            "grid_column": null,
            "grid_gap": null,
            "grid_row": null,
            "grid_template_areas": null,
            "grid_template_columns": null,
            "grid_template_rows": null,
            "height": null,
            "justify_content": null,
            "justify_items": null,
            "left": null,
            "margin": null,
            "max_height": null,
            "max_width": null,
            "min_height": null,
            "min_width": null,
            "object_fit": null,
            "object_position": null,
            "order": null,
            "overflow": null,
            "overflow_x": null,
            "overflow_y": null,
            "padding": null,
            "right": null,
            "top": null,
            "visibility": null,
            "width": null
          }
        },
        "61d52f8e99cc4e11b3c729b7b09e5d80": {
          "model_module": "@jupyter-widgets/controls",
          "model_name": "ProgressStyleModel",
          "model_module_version": "1.5.0",
          "state": {
            "_model_module": "@jupyter-widgets/controls",
            "_model_module_version": "1.5.0",
            "_model_name": "ProgressStyleModel",
            "_view_count": null,
            "_view_module": "@jupyter-widgets/base",
            "_view_module_version": "1.2.0",
            "_view_name": "StyleView",
            "bar_color": null,
            "description_width": ""
          }
        },
        "fe930b36e98443a19f003d9c9802e1e8": {
          "model_module": "@jupyter-widgets/base",
          "model_name": "LayoutModel",
          "model_module_version": "1.2.0",
          "state": {
            "_model_module": "@jupyter-widgets/base",
            "_model_module_version": "1.2.0",
            "_model_name": "LayoutModel",
            "_view_count": null,
            "_view_module": "@jupyter-widgets/base",
            "_view_module_version": "1.2.0",
            "_view_name": "LayoutView",
            "align_content": null,
            "align_items": null,
            "align_self": null,
            "border": null,
            "bottom": null,
            "display": null,
            "flex": null,
            "flex_flow": null,
            "grid_area": null,
            "grid_auto_columns": null,
            "grid_auto_flow": null,
            "grid_auto_rows": null,
            "grid_column": null,
            "grid_gap": null,
            "grid_row": null,
            "grid_template_areas": null,
            "grid_template_columns": null,
            "grid_template_rows": null,
            "height": null,
            "justify_content": null,
            "justify_items": null,
            "left": null,
            "margin": null,
            "max_height": null,
            "max_width": null,
            "min_height": null,
            "min_width": null,
            "object_fit": null,
            "object_position": null,
            "order": null,
            "overflow": null,
            "overflow_x": null,
            "overflow_y": null,
            "padding": null,
            "right": null,
            "top": null,
            "visibility": null,
            "width": null
          }
        },
        "daa8ad986c5f401a9604959473e6beb7": {
          "model_module": "@jupyter-widgets/controls",
          "model_name": "DescriptionStyleModel",
          "model_module_version": "1.5.0",
          "state": {
            "_model_module": "@jupyter-widgets/controls",
            "_model_module_version": "1.5.0",
            "_model_name": "DescriptionStyleModel",
            "_view_count": null,
            "_view_module": "@jupyter-widgets/base",
            "_view_module_version": "1.2.0",
            "_view_name": "StyleView",
            "description_width": ""
          }
        },
        "9aa63f69a9954a91816ad69bdd35ed4b": {
          "model_module": "@jupyter-widgets/controls",
          "model_name": "HBoxModel",
          "model_module_version": "1.5.0",
          "state": {
            "_dom_classes": [],
            "_model_module": "@jupyter-widgets/controls",
            "_model_module_version": "1.5.0",
            "_model_name": "HBoxModel",
            "_view_count": null,
            "_view_module": "@jupyter-widgets/controls",
            "_view_module_version": "1.5.0",
            "_view_name": "HBoxView",
            "box_style": "",
            "children": [
              "IPY_MODEL_74920380c014447f8a58e0d733175f6b",
              "IPY_MODEL_34b32335b0c14edf8f5950093e9178ff",
              "IPY_MODEL_079ab5b3d0bf4332a95c2faeb96df35d"
            ],
            "layout": "IPY_MODEL_6972d9d04e554bfd9c4c31bb28c21a31"
          }
        },
        "74920380c014447f8a58e0d733175f6b": {
          "model_module": "@jupyter-widgets/controls",
          "model_name": "HTMLModel",
          "model_module_version": "1.5.0",
          "state": {
            "_dom_classes": [],
            "_model_module": "@jupyter-widgets/controls",
            "_model_module_version": "1.5.0",
            "_model_name": "HTMLModel",
            "_view_count": null,
            "_view_module": "@jupyter-widgets/controls",
            "_view_module_version": "1.5.0",
            "_view_name": "HTMLView",
            "description": "",
            "description_tooltip": null,
            "layout": "IPY_MODEL_52844a666ab144a0991211cf6f008979",
            "placeholder": "​",
            "style": "IPY_MODEL_1f51d9a6de28483dbcd84c7b157b5034",
            "value": "Shuffling /root/tensorflow_datasets/svhn_cropped/3.0.0.incompleteLKB4Z8/svhn_cropped-test.tfrecord*...:  70%"
          }
        },
        "34b32335b0c14edf8f5950093e9178ff": {
          "model_module": "@jupyter-widgets/controls",
          "model_name": "FloatProgressModel",
          "model_module_version": "1.5.0",
          "state": {
            "_dom_classes": [],
            "_model_module": "@jupyter-widgets/controls",
            "_model_module_version": "1.5.0",
            "_model_name": "FloatProgressModel",
            "_view_count": null,
            "_view_module": "@jupyter-widgets/controls",
            "_view_module_version": "1.5.0",
            "_view_name": "ProgressView",
            "bar_style": "",
            "description": "",
            "description_tooltip": null,
            "layout": "IPY_MODEL_34a64e80826043ca8a2c0df7f1bf0e9d",
            "max": 26032,
            "min": 0,
            "orientation": "horizontal",
            "style": "IPY_MODEL_e34d9367b0ea444ab3e022bf7b11d0cd",
            "value": 26032
          }
        },
        "079ab5b3d0bf4332a95c2faeb96df35d": {
          "model_module": "@jupyter-widgets/controls",
          "model_name": "HTMLModel",
          "model_module_version": "1.5.0",
          "state": {
            "_dom_classes": [],
            "_model_module": "@jupyter-widgets/controls",
            "_model_module_version": "1.5.0",
            "_model_name": "HTMLModel",
            "_view_count": null,
            "_view_module": "@jupyter-widgets/controls",
            "_view_module_version": "1.5.0",
            "_view_name": "HTMLView",
            "description": "",
            "description_tooltip": null,
            "layout": "IPY_MODEL_c57416d0c30a4238a15bf59c17bf30df",
            "placeholder": "​",
            "style": "IPY_MODEL_5ae49ddeb2b648439eb7e9529bd862f3",
            "value": " 18278/26032 [00:00&lt;00:00, 182751.85 examples/s]"
          }
        },
        "6972d9d04e554bfd9c4c31bb28c21a31": {
          "model_module": "@jupyter-widgets/base",
          "model_name": "LayoutModel",
          "model_module_version": "1.2.0",
          "state": {
            "_model_module": "@jupyter-widgets/base",
            "_model_module_version": "1.2.0",
            "_model_name": "LayoutModel",
            "_view_count": null,
            "_view_module": "@jupyter-widgets/base",
            "_view_module_version": "1.2.0",
            "_view_name": "LayoutView",
            "align_content": null,
            "align_items": null,
            "align_self": null,
            "border": null,
            "bottom": null,
            "display": null,
            "flex": null,
            "flex_flow": null,
            "grid_area": null,
            "grid_auto_columns": null,
            "grid_auto_flow": null,
            "grid_auto_rows": null,
            "grid_column": null,
            "grid_gap": null,
            "grid_row": null,
            "grid_template_areas": null,
            "grid_template_columns": null,
            "grid_template_rows": null,
            "height": null,
            "justify_content": null,
            "justify_items": null,
            "left": null,
            "margin": null,
            "max_height": null,
            "max_width": null,
            "min_height": null,
            "min_width": null,
            "object_fit": null,
            "object_position": null,
            "order": null,
            "overflow": null,
            "overflow_x": null,
            "overflow_y": null,
            "padding": null,
            "right": null,
            "top": null,
            "visibility": "hidden",
            "width": null
          }
        },
        "52844a666ab144a0991211cf6f008979": {
          "model_module": "@jupyter-widgets/base",
          "model_name": "LayoutModel",
          "model_module_version": "1.2.0",
          "state": {
            "_model_module": "@jupyter-widgets/base",
            "_model_module_version": "1.2.0",
            "_model_name": "LayoutModel",
            "_view_count": null,
            "_view_module": "@jupyter-widgets/base",
            "_view_module_version": "1.2.0",
            "_view_name": "LayoutView",
            "align_content": null,
            "align_items": null,
            "align_self": null,
            "border": null,
            "bottom": null,
            "display": null,
            "flex": null,
            "flex_flow": null,
            "grid_area": null,
            "grid_auto_columns": null,
            "grid_auto_flow": null,
            "grid_auto_rows": null,
            "grid_column": null,
            "grid_gap": null,
            "grid_row": null,
            "grid_template_areas": null,
            "grid_template_columns": null,
            "grid_template_rows": null,
            "height": null,
            "justify_content": null,
            "justify_items": null,
            "left": null,
            "margin": null,
            "max_height": null,
            "max_width": null,
            "min_height": null,
            "min_width": null,
            "object_fit": null,
            "object_position": null,
            "order": null,
            "overflow": null,
            "overflow_x": null,
            "overflow_y": null,
            "padding": null,
            "right": null,
            "top": null,
            "visibility": null,
            "width": null
          }
        },
        "1f51d9a6de28483dbcd84c7b157b5034": {
          "model_module": "@jupyter-widgets/controls",
          "model_name": "DescriptionStyleModel",
          "model_module_version": "1.5.0",
          "state": {
            "_model_module": "@jupyter-widgets/controls",
            "_model_module_version": "1.5.0",
            "_model_name": "DescriptionStyleModel",
            "_view_count": null,
            "_view_module": "@jupyter-widgets/base",
            "_view_module_version": "1.2.0",
            "_view_name": "StyleView",
            "description_width": ""
          }
        },
        "34a64e80826043ca8a2c0df7f1bf0e9d": {
          "model_module": "@jupyter-widgets/base",
          "model_name": "LayoutModel",
          "model_module_version": "1.2.0",
          "state": {
            "_model_module": "@jupyter-widgets/base",
            "_model_module_version": "1.2.0",
            "_model_name": "LayoutModel",
            "_view_count": null,
            "_view_module": "@jupyter-widgets/base",
            "_view_module_version": "1.2.0",
            "_view_name": "LayoutView",
            "align_content": null,
            "align_items": null,
            "align_self": null,
            "border": null,
            "bottom": null,
            "display": null,
            "flex": null,
            "flex_flow": null,
            "grid_area": null,
            "grid_auto_columns": null,
            "grid_auto_flow": null,
            "grid_auto_rows": null,
            "grid_column": null,
            "grid_gap": null,
            "grid_row": null,
            "grid_template_areas": null,
            "grid_template_columns": null,
            "grid_template_rows": null,
            "height": null,
            "justify_content": null,
            "justify_items": null,
            "left": null,
            "margin": null,
            "max_height": null,
            "max_width": null,
            "min_height": null,
            "min_width": null,
            "object_fit": null,
            "object_position": null,
            "order": null,
            "overflow": null,
            "overflow_x": null,
            "overflow_y": null,
            "padding": null,
            "right": null,
            "top": null,
            "visibility": null,
            "width": null
          }
        },
        "e34d9367b0ea444ab3e022bf7b11d0cd": {
          "model_module": "@jupyter-widgets/controls",
          "model_name": "ProgressStyleModel",
          "model_module_version": "1.5.0",
          "state": {
            "_model_module": "@jupyter-widgets/controls",
            "_model_module_version": "1.5.0",
            "_model_name": "ProgressStyleModel",
            "_view_count": null,
            "_view_module": "@jupyter-widgets/base",
            "_view_module_version": "1.2.0",
            "_view_name": "StyleView",
            "bar_color": null,
            "description_width": ""
          }
        },
        "c57416d0c30a4238a15bf59c17bf30df": {
          "model_module": "@jupyter-widgets/base",
          "model_name": "LayoutModel",
          "model_module_version": "1.2.0",
          "state": {
            "_model_module": "@jupyter-widgets/base",
            "_model_module_version": "1.2.0",
            "_model_name": "LayoutModel",
            "_view_count": null,
            "_view_module": "@jupyter-widgets/base",
            "_view_module_version": "1.2.0",
            "_view_name": "LayoutView",
            "align_content": null,
            "align_items": null,
            "align_self": null,
            "border": null,
            "bottom": null,
            "display": null,
            "flex": null,
            "flex_flow": null,
            "grid_area": null,
            "grid_auto_columns": null,
            "grid_auto_flow": null,
            "grid_auto_rows": null,
            "grid_column": null,
            "grid_gap": null,
            "grid_row": null,
            "grid_template_areas": null,
            "grid_template_columns": null,
            "grid_template_rows": null,
            "height": null,
            "justify_content": null,
            "justify_items": null,
            "left": null,
            "margin": null,
            "max_height": null,
            "max_width": null,
            "min_height": null,
            "min_width": null,
            "object_fit": null,
            "object_position": null,
            "order": null,
            "overflow": null,
            "overflow_x": null,
            "overflow_y": null,
            "padding": null,
            "right": null,
            "top": null,
            "visibility": null,
            "width": null
          }
        },
        "5ae49ddeb2b648439eb7e9529bd862f3": {
          "model_module": "@jupyter-widgets/controls",
          "model_name": "DescriptionStyleModel",
          "model_module_version": "1.5.0",
          "state": {
            "_model_module": "@jupyter-widgets/controls",
            "_model_module_version": "1.5.0",
            "_model_name": "DescriptionStyleModel",
            "_view_count": null,
            "_view_module": "@jupyter-widgets/base",
            "_view_module_version": "1.2.0",
            "_view_name": "StyleView",
            "description_width": ""
          }
        },
        "be54ad383013418ea56b0e4a679ecddb": {
          "model_module": "@jupyter-widgets/controls",
          "model_name": "HBoxModel",
          "model_module_version": "1.5.0",
          "state": {
            "_dom_classes": [],
            "_model_module": "@jupyter-widgets/controls",
            "_model_module_version": "1.5.0",
            "_model_name": "HBoxModel",
            "_view_count": null,
            "_view_module": "@jupyter-widgets/controls",
            "_view_module_version": "1.5.0",
            "_view_name": "HBoxView",
            "box_style": "",
            "children": [
              "IPY_MODEL_fb68eb237b33489aab4cf809ed210384",
              "IPY_MODEL_a1dba8bf614844db961e1443f06f90b6",
              "IPY_MODEL_88fa176e450244c28f115e4621c98d12"
            ],
            "layout": "IPY_MODEL_c38a600defe248b49d9ab7daa5b0b9c3"
          }
        },
        "fb68eb237b33489aab4cf809ed210384": {
          "model_module": "@jupyter-widgets/controls",
          "model_name": "HTMLModel",
          "model_module_version": "1.5.0",
          "state": {
            "_dom_classes": [],
            "_model_module": "@jupyter-widgets/controls",
            "_model_module_version": "1.5.0",
            "_model_name": "HTMLModel",
            "_view_count": null,
            "_view_module": "@jupyter-widgets/controls",
            "_view_module_version": "1.5.0",
            "_view_name": "HTMLView",
            "description": "",
            "description_tooltip": null,
            "layout": "IPY_MODEL_f2c5c274a60546a9a193c5588f06f5c8",
            "placeholder": "​",
            "style": "IPY_MODEL_f380efd95f7141dd90537b7c36729ecb",
            "value": "Generating extra examples...: 100%"
          }
        },
        "a1dba8bf614844db961e1443f06f90b6": {
          "model_module": "@jupyter-widgets/controls",
          "model_name": "FloatProgressModel",
          "model_module_version": "1.5.0",
          "state": {
            "_dom_classes": [],
            "_model_module": "@jupyter-widgets/controls",
            "_model_module_version": "1.5.0",
            "_model_name": "FloatProgressModel",
            "_view_count": null,
            "_view_module": "@jupyter-widgets/controls",
            "_view_module_version": "1.5.0",
            "_view_name": "ProgressView",
            "bar_style": "",
            "description": "",
            "description_tooltip": null,
            "layout": "IPY_MODEL_17f179bd1e7e4650943aa3618ea1e778",
            "max": 531131,
            "min": 0,
            "orientation": "horizontal",
            "style": "IPY_MODEL_b95783a7bbe64a778d40c136ec597e44",
            "value": 531131
          }
        },
        "88fa176e450244c28f115e4621c98d12": {
          "model_module": "@jupyter-widgets/controls",
          "model_name": "HTMLModel",
          "model_module_version": "1.5.0",
          "state": {
            "_dom_classes": [],
            "_model_module": "@jupyter-widgets/controls",
            "_model_module_version": "1.5.0",
            "_model_name": "HTMLModel",
            "_view_count": null,
            "_view_module": "@jupyter-widgets/controls",
            "_view_module_version": "1.5.0",
            "_view_name": "HTMLView",
            "description": "",
            "description_tooltip": null,
            "layout": "IPY_MODEL_38cce8cd1b374fc9b8a60eb798a20624",
            "placeholder": "​",
            "style": "IPY_MODEL_2f3cf49a4e7e4f41acc2603fa43629c1",
            "value": " 531014/531131 [06:25&lt;00:00, 1417.85 examples/s]"
          }
        },
        "c38a600defe248b49d9ab7daa5b0b9c3": {
          "model_module": "@jupyter-widgets/base",
          "model_name": "LayoutModel",
          "model_module_version": "1.2.0",
          "state": {
            "_model_module": "@jupyter-widgets/base",
            "_model_module_version": "1.2.0",
            "_model_name": "LayoutModel",
            "_view_count": null,
            "_view_module": "@jupyter-widgets/base",
            "_view_module_version": "1.2.0",
            "_view_name": "LayoutView",
            "align_content": null,
            "align_items": null,
            "align_self": null,
            "border": null,
            "bottom": null,
            "display": null,
            "flex": null,
            "flex_flow": null,
            "grid_area": null,
            "grid_auto_columns": null,
            "grid_auto_flow": null,
            "grid_auto_rows": null,
            "grid_column": null,
            "grid_gap": null,
            "grid_row": null,
            "grid_template_areas": null,
            "grid_template_columns": null,
            "grid_template_rows": null,
            "height": null,
            "justify_content": null,
            "justify_items": null,
            "left": null,
            "margin": null,
            "max_height": null,
            "max_width": null,
            "min_height": null,
            "min_width": null,
            "object_fit": null,
            "object_position": null,
            "order": null,
            "overflow": null,
            "overflow_x": null,
            "overflow_y": null,
            "padding": null,
            "right": null,
            "top": null,
            "visibility": "hidden",
            "width": null
          }
        },
        "f2c5c274a60546a9a193c5588f06f5c8": {
          "model_module": "@jupyter-widgets/base",
          "model_name": "LayoutModel",
          "model_module_version": "1.2.0",
          "state": {
            "_model_module": "@jupyter-widgets/base",
            "_model_module_version": "1.2.0",
            "_model_name": "LayoutModel",
            "_view_count": null,
            "_view_module": "@jupyter-widgets/base",
            "_view_module_version": "1.2.0",
            "_view_name": "LayoutView",
            "align_content": null,
            "align_items": null,
            "align_self": null,
            "border": null,
            "bottom": null,
            "display": null,
            "flex": null,
            "flex_flow": null,
            "grid_area": null,
            "grid_auto_columns": null,
            "grid_auto_flow": null,
            "grid_auto_rows": null,
            "grid_column": null,
            "grid_gap": null,
            "grid_row": null,
            "grid_template_areas": null,
            "grid_template_columns": null,
            "grid_template_rows": null,
            "height": null,
            "justify_content": null,
            "justify_items": null,
            "left": null,
            "margin": null,
            "max_height": null,
            "max_width": null,
            "min_height": null,
            "min_width": null,
            "object_fit": null,
            "object_position": null,
            "order": null,
            "overflow": null,
            "overflow_x": null,
            "overflow_y": null,
            "padding": null,
            "right": null,
            "top": null,
            "visibility": null,
            "width": null
          }
        },
        "f380efd95f7141dd90537b7c36729ecb": {
          "model_module": "@jupyter-widgets/controls",
          "model_name": "DescriptionStyleModel",
          "model_module_version": "1.5.0",
          "state": {
            "_model_module": "@jupyter-widgets/controls",
            "_model_module_version": "1.5.0",
            "_model_name": "DescriptionStyleModel",
            "_view_count": null,
            "_view_module": "@jupyter-widgets/base",
            "_view_module_version": "1.2.0",
            "_view_name": "StyleView",
            "description_width": ""
          }
        },
        "17f179bd1e7e4650943aa3618ea1e778": {
          "model_module": "@jupyter-widgets/base",
          "model_name": "LayoutModel",
          "model_module_version": "1.2.0",
          "state": {
            "_model_module": "@jupyter-widgets/base",
            "_model_module_version": "1.2.0",
            "_model_name": "LayoutModel",
            "_view_count": null,
            "_view_module": "@jupyter-widgets/base",
            "_view_module_version": "1.2.0",
            "_view_name": "LayoutView",
            "align_content": null,
            "align_items": null,
            "align_self": null,
            "border": null,
            "bottom": null,
            "display": null,
            "flex": null,
            "flex_flow": null,
            "grid_area": null,
            "grid_auto_columns": null,
            "grid_auto_flow": null,
            "grid_auto_rows": null,
            "grid_column": null,
            "grid_gap": null,
            "grid_row": null,
            "grid_template_areas": null,
            "grid_template_columns": null,
            "grid_template_rows": null,
            "height": null,
            "justify_content": null,
            "justify_items": null,
            "left": null,
            "margin": null,
            "max_height": null,
            "max_width": null,
            "min_height": null,
            "min_width": null,
            "object_fit": null,
            "object_position": null,
            "order": null,
            "overflow": null,
            "overflow_x": null,
            "overflow_y": null,
            "padding": null,
            "right": null,
            "top": null,
            "visibility": null,
            "width": null
          }
        },
        "b95783a7bbe64a778d40c136ec597e44": {
          "model_module": "@jupyter-widgets/controls",
          "model_name": "ProgressStyleModel",
          "model_module_version": "1.5.0",
          "state": {
            "_model_module": "@jupyter-widgets/controls",
            "_model_module_version": "1.5.0",
            "_model_name": "ProgressStyleModel",
            "_view_count": null,
            "_view_module": "@jupyter-widgets/base",
            "_view_module_version": "1.2.0",
            "_view_name": "StyleView",
            "bar_color": null,
            "description_width": ""
          }
        },
        "38cce8cd1b374fc9b8a60eb798a20624": {
          "model_module": "@jupyter-widgets/base",
          "model_name": "LayoutModel",
          "model_module_version": "1.2.0",
          "state": {
            "_model_module": "@jupyter-widgets/base",
            "_model_module_version": "1.2.0",
            "_model_name": "LayoutModel",
            "_view_count": null,
            "_view_module": "@jupyter-widgets/base",
            "_view_module_version": "1.2.0",
            "_view_name": "LayoutView",
            "align_content": null,
            "align_items": null,
            "align_self": null,
            "border": null,
            "bottom": null,
            "display": null,
            "flex": null,
            "flex_flow": null,
            "grid_area": null,
            "grid_auto_columns": null,
            "grid_auto_flow": null,
            "grid_auto_rows": null,
            "grid_column": null,
            "grid_gap": null,
            "grid_row": null,
            "grid_template_areas": null,
            "grid_template_columns": null,
            "grid_template_rows": null,
            "height": null,
            "justify_content": null,
            "justify_items": null,
            "left": null,
            "margin": null,
            "max_height": null,
            "max_width": null,
            "min_height": null,
            "min_width": null,
            "object_fit": null,
            "object_position": null,
            "order": null,
            "overflow": null,
            "overflow_x": null,
            "overflow_y": null,
            "padding": null,
            "right": null,
            "top": null,
            "visibility": null,
            "width": null
          }
        },
        "2f3cf49a4e7e4f41acc2603fa43629c1": {
          "model_module": "@jupyter-widgets/controls",
          "model_name": "DescriptionStyleModel",
          "model_module_version": "1.5.0",
          "state": {
            "_model_module": "@jupyter-widgets/controls",
            "_model_module_version": "1.5.0",
            "_model_name": "DescriptionStyleModel",
            "_view_count": null,
            "_view_module": "@jupyter-widgets/base",
            "_view_module_version": "1.2.0",
            "_view_name": "StyleView",
            "description_width": ""
          }
        },
        "897f3c780b384ff89b6167e5ab6c60d4": {
          "model_module": "@jupyter-widgets/controls",
          "model_name": "HBoxModel",
          "model_module_version": "1.5.0",
          "state": {
            "_dom_classes": [],
            "_model_module": "@jupyter-widgets/controls",
            "_model_module_version": "1.5.0",
            "_model_name": "HBoxModel",
            "_view_count": null,
            "_view_module": "@jupyter-widgets/controls",
            "_view_module_version": "1.5.0",
            "_view_name": "HBoxView",
            "box_style": "",
            "children": [
              "IPY_MODEL_e2ce07deeb2e4bf294f50a6ef6b89d66",
              "IPY_MODEL_11616d4b2efe4b819d4636dba06cfe53",
              "IPY_MODEL_afd2dd8c5d304220a1310992e3d2b54a"
            ],
            "layout": "IPY_MODEL_3e76aec4738c43ab9052fe34f4c7952f"
          }
        },
        "e2ce07deeb2e4bf294f50a6ef6b89d66": {
          "model_module": "@jupyter-widgets/controls",
          "model_name": "HTMLModel",
          "model_module_version": "1.5.0",
          "state": {
            "_dom_classes": [],
            "_model_module": "@jupyter-widgets/controls",
            "_model_module_version": "1.5.0",
            "_model_name": "HTMLModel",
            "_view_count": null,
            "_view_module": "@jupyter-widgets/controls",
            "_view_module_version": "1.5.0",
            "_view_name": "HTMLView",
            "description": "",
            "description_tooltip": null,
            "layout": "IPY_MODEL_8429701c8e834826955a9d7103ba0dd9",
            "placeholder": "​",
            "style": "IPY_MODEL_46f7afa44b8a4920887a3a5abf47e9bc",
            "value": "Shuffling /root/tensorflow_datasets/svhn_cropped/3.0.0.incompleteLKB4Z8/svhn_cropped-extra.tfrecord*...:  99%"
          }
        },
        "11616d4b2efe4b819d4636dba06cfe53": {
          "model_module": "@jupyter-widgets/controls",
          "model_name": "FloatProgressModel",
          "model_module_version": "1.5.0",
          "state": {
            "_dom_classes": [],
            "_model_module": "@jupyter-widgets/controls",
            "_model_module_version": "1.5.0",
            "_model_name": "FloatProgressModel",
            "_view_count": null,
            "_view_module": "@jupyter-widgets/controls",
            "_view_module_version": "1.5.0",
            "_view_name": "ProgressView",
            "bar_style": "",
            "description": "",
            "description_tooltip": null,
            "layout": "IPY_MODEL_c67d6df0da514d5d805ee6def878f585",
            "max": 531131,
            "min": 0,
            "orientation": "horizontal",
            "style": "IPY_MODEL_cfda319f78314923b9bf7b5e085e4473",
            "value": 531131
          }
        },
        "afd2dd8c5d304220a1310992e3d2b54a": {
          "model_module": "@jupyter-widgets/controls",
          "model_name": "HTMLModel",
          "model_module_version": "1.5.0",
          "state": {
            "_dom_classes": [],
            "_model_module": "@jupyter-widgets/controls",
            "_model_module_version": "1.5.0",
            "_model_name": "HTMLModel",
            "_view_count": null,
            "_view_module": "@jupyter-widgets/controls",
            "_view_module_version": "1.5.0",
            "_view_name": "HTMLView",
            "description": "",
            "description_tooltip": null,
            "layout": "IPY_MODEL_a426a2b023ec455bad99bc441812b798",
            "placeholder": "​",
            "style": "IPY_MODEL_d2f254722498446eb608514cf19c7860",
            "value": " 525181/531131 [00:02&lt;00:00, 223125.13 examples/s]"
          }
        },
        "3e76aec4738c43ab9052fe34f4c7952f": {
          "model_module": "@jupyter-widgets/base",
          "model_name": "LayoutModel",
          "model_module_version": "1.2.0",
          "state": {
            "_model_module": "@jupyter-widgets/base",
            "_model_module_version": "1.2.0",
            "_model_name": "LayoutModel",
            "_view_count": null,
            "_view_module": "@jupyter-widgets/base",
            "_view_module_version": "1.2.0",
            "_view_name": "LayoutView",
            "align_content": null,
            "align_items": null,
            "align_self": null,
            "border": null,
            "bottom": null,
            "display": null,
            "flex": null,
            "flex_flow": null,
            "grid_area": null,
            "grid_auto_columns": null,
            "grid_auto_flow": null,
            "grid_auto_rows": null,
            "grid_column": null,
            "grid_gap": null,
            "grid_row": null,
            "grid_template_areas": null,
            "grid_template_columns": null,
            "grid_template_rows": null,
            "height": null,
            "justify_content": null,
            "justify_items": null,
            "left": null,
            "margin": null,
            "max_height": null,
            "max_width": null,
            "min_height": null,
            "min_width": null,
            "object_fit": null,
            "object_position": null,
            "order": null,
            "overflow": null,
            "overflow_x": null,
            "overflow_y": null,
            "padding": null,
            "right": null,
            "top": null,
            "visibility": "hidden",
            "width": null
          }
        },
        "8429701c8e834826955a9d7103ba0dd9": {
          "model_module": "@jupyter-widgets/base",
          "model_name": "LayoutModel",
          "model_module_version": "1.2.0",
          "state": {
            "_model_module": "@jupyter-widgets/base",
            "_model_module_version": "1.2.0",
            "_model_name": "LayoutModel",
            "_view_count": null,
            "_view_module": "@jupyter-widgets/base",
            "_view_module_version": "1.2.0",
            "_view_name": "LayoutView",
            "align_content": null,
            "align_items": null,
            "align_self": null,
            "border": null,
            "bottom": null,
            "display": null,
            "flex": null,
            "flex_flow": null,
            "grid_area": null,
            "grid_auto_columns": null,
            "grid_auto_flow": null,
            "grid_auto_rows": null,
            "grid_column": null,
            "grid_gap": null,
            "grid_row": null,
            "grid_template_areas": null,
            "grid_template_columns": null,
            "grid_template_rows": null,
            "height": null,
            "justify_content": null,
            "justify_items": null,
            "left": null,
            "margin": null,
            "max_height": null,
            "max_width": null,
            "min_height": null,
            "min_width": null,
            "object_fit": null,
            "object_position": null,
            "order": null,
            "overflow": null,
            "overflow_x": null,
            "overflow_y": null,
            "padding": null,
            "right": null,
            "top": null,
            "visibility": null,
            "width": null
          }
        },
        "46f7afa44b8a4920887a3a5abf47e9bc": {
          "model_module": "@jupyter-widgets/controls",
          "model_name": "DescriptionStyleModel",
          "model_module_version": "1.5.0",
          "state": {
            "_model_module": "@jupyter-widgets/controls",
            "_model_module_version": "1.5.0",
            "_model_name": "DescriptionStyleModel",
            "_view_count": null,
            "_view_module": "@jupyter-widgets/base",
            "_view_module_version": "1.2.0",
            "_view_name": "StyleView",
            "description_width": ""
          }
        },
        "c67d6df0da514d5d805ee6def878f585": {
          "model_module": "@jupyter-widgets/base",
          "model_name": "LayoutModel",
          "model_module_version": "1.2.0",
          "state": {
            "_model_module": "@jupyter-widgets/base",
            "_model_module_version": "1.2.0",
            "_model_name": "LayoutModel",
            "_view_count": null,
            "_view_module": "@jupyter-widgets/base",
            "_view_module_version": "1.2.0",
            "_view_name": "LayoutView",
            "align_content": null,
            "align_items": null,
            "align_self": null,
            "border": null,
            "bottom": null,
            "display": null,
            "flex": null,
            "flex_flow": null,
            "grid_area": null,
            "grid_auto_columns": null,
            "grid_auto_flow": null,
            "grid_auto_rows": null,
            "grid_column": null,
            "grid_gap": null,
            "grid_row": null,
            "grid_template_areas": null,
            "grid_template_columns": null,
            "grid_template_rows": null,
            "height": null,
            "justify_content": null,
            "justify_items": null,
            "left": null,
            "margin": null,
            "max_height": null,
            "max_width": null,
            "min_height": null,
            "min_width": null,
            "object_fit": null,
            "object_position": null,
            "order": null,
            "overflow": null,
            "overflow_x": null,
            "overflow_y": null,
            "padding": null,
            "right": null,
            "top": null,
            "visibility": null,
            "width": null
          }
        },
        "cfda319f78314923b9bf7b5e085e4473": {
          "model_module": "@jupyter-widgets/controls",
          "model_name": "ProgressStyleModel",
          "model_module_version": "1.5.0",
          "state": {
            "_model_module": "@jupyter-widgets/controls",
            "_model_module_version": "1.5.0",
            "_model_name": "ProgressStyleModel",
            "_view_count": null,
            "_view_module": "@jupyter-widgets/base",
            "_view_module_version": "1.2.0",
            "_view_name": "StyleView",
            "bar_color": null,
            "description_width": ""
          }
        },
        "a426a2b023ec455bad99bc441812b798": {
          "model_module": "@jupyter-widgets/base",
          "model_name": "LayoutModel",
          "model_module_version": "1.2.0",
          "state": {
            "_model_module": "@jupyter-widgets/base",
            "_model_module_version": "1.2.0",
            "_model_name": "LayoutModel",
            "_view_count": null,
            "_view_module": "@jupyter-widgets/base",
            "_view_module_version": "1.2.0",
            "_view_name": "LayoutView",
            "align_content": null,
            "align_items": null,
            "align_self": null,
            "border": null,
            "bottom": null,
            "display": null,
            "flex": null,
            "flex_flow": null,
            "grid_area": null,
            "grid_auto_columns": null,
            "grid_auto_flow": null,
            "grid_auto_rows": null,
            "grid_column": null,
            "grid_gap": null,
            "grid_row": null,
            "grid_template_areas": null,
            "grid_template_columns": null,
            "grid_template_rows": null,
            "height": null,
            "justify_content": null,
            "justify_items": null,
            "left": null,
            "margin": null,
            "max_height": null,
            "max_width": null,
            "min_height": null,
            "min_width": null,
            "object_fit": null,
            "object_position": null,
            "order": null,
            "overflow": null,
            "overflow_x": null,
            "overflow_y": null,
            "padding": null,
            "right": null,
            "top": null,
            "visibility": null,
            "width": null
          }
        },
        "d2f254722498446eb608514cf19c7860": {
          "model_module": "@jupyter-widgets/controls",
          "model_name": "DescriptionStyleModel",
          "model_module_version": "1.5.0",
          "state": {
            "_model_module": "@jupyter-widgets/controls",
            "_model_module_version": "1.5.0",
            "_model_name": "DescriptionStyleModel",
            "_view_count": null,
            "_view_module": "@jupyter-widgets/base",
            "_view_module_version": "1.2.0",
            "_view_name": "StyleView",
            "description_width": ""
          }
        }
      }
    }
  },
  "nbformat": 4,
  "nbformat_minor": 0
}